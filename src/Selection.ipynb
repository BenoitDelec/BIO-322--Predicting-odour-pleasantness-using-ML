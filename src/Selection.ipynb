{
 "cells": [
  {
   "cell_type": "code",
   "execution_count": 192,
   "metadata": {},
   "outputs": [],
   "source": [
    "train.data <- read.csv(file.path(\"..\", \"data\", \"training_data.csv\"))\n",
    "test.data <- read.csv(file.path(\"..\", \"data\", \"test_data.csv\"))\n",
    "sampleSubmission <- read.csv(file.path(\"..\", \"data\", \"sampleSubmission.csv\"))"
   ]
  },
  {
   "cell_type": "code",
   "execution_count": 193,
   "metadata": {},
   "outputs": [],
   "source": [
    "#delets dependent variables\n",
    "train.dub <- train.data[!duplicated(as.list(train.data))]\n"
   ]
  },
  {
   "cell_type": "code",
   "execution_count": 194,
   "metadata": {},
   "outputs": [],
   "source": [
    "#data set with VALENCE.PLEASANTNESS + V.. (with low varinace)\n",
    "length <- length(train.dub[1,])\n",
    "idx.low.var <- apply(train.dub[,4:length], 2, var) < 0.24 # identify pixels with low variance \n",
    "V.data <- data.frame(train.dub[,4:length])\n",
    "V.data <- data.frame(V.data[,!idx.low.var])\n",
    "V.data$VALENCE.PLEASANTNESS <- train.data$VALENCE.PLEASANTNESS\n",
    "\n",
    "#split the data set into a training set and a validation set\n",
    "dim <- length(V.data[,1])\n",
    "idx.validation <- sample(1:dim, dim/3)\n",
    "\n",
    "train <- V.data[-idx.validation,]\n",
    "validation <- V.data[idx.validation,]\n",
    "\n"
   ]
  },
  {
   "cell_type": "code",
   "execution_count": 195,
   "metadata": {},
   "outputs": [],
   "source": [
    "library(leaps)"
   ]
  },
  {
   "cell_type": "code",
   "execution_count": 196,
   "metadata": {},
   "outputs": [
    {
     "name": "stderr",
     "output_type": "stream",
     "text": [
      "Warning message in leaps.setup(x, y, wt = wt, nbest = nbest, nvmax = nvmax, force.in = force.in, :\n",
      "\"1  linear dependencies found\""
     ]
    },
    {
     "name": "stdout",
     "output_type": "stream",
     "text": [
      "Reordering variables and trying again:\n"
     ]
    }
   ],
   "source": [
    "#forward selection \n",
    "nvmax = 50\n",
    "models.forward <- regsubsets(VALENCE.PLEASANTNESS ~ ., data = train, nvmax = nvmax, method = 'forward')\n"
   ]
  },
  {
   "cell_type": "code",
   "execution_count": 197,
   "metadata": {},
   "outputs": [],
   "source": [
    "predict.regsubsets <- function(object,newdata,id,...){\n",
    "form <- as.formula(object$call[[2]])\n",
    "mat <- model.matrix(form,newdata)\n",
    "coefi <- coef(object,id=id)\n",
    "xvars <- names(coefi)\n",
    "mat[,xvars]%*%coefi\n",
    "}\n",
    "\n"
   ]
  },
  {
   "cell_type": "code",
   "execution_count": 198,
   "metadata": {},
   "outputs": [
    {
     "name": "stdout",
     "output_type": "stream",
     "text": [
      "[1] 503.1129\n",
      "[1] 503.6956\n",
      "[1] 509.2411\n",
      "[1] 497.7744\n",
      "[1] 494.4285\n",
      "[1] 504.9523\n",
      "[1] 509.0233\n",
      "[1] 529.2835\n",
      "[1] 527.098\n",
      "[1] 560.4588\n",
      "[1] 560.6065\n",
      "[1] 555.41\n",
      "[1] 556.5802\n",
      "[1] 555.4511\n",
      "[1] 555.0275\n",
      "[1] 554.7695\n",
      "[1] 556.5035\n",
      "[1] 561.0296\n",
      "[1] 562.8505\n",
      "[1] 563.8609\n",
      "[1] 561.622\n",
      "[1] 561.8433\n",
      "[1] 565.6408\n",
      "[1] 564.0695\n",
      "[1] 563.666\n",
      "[1] 563.3208\n",
      "[1] 566.1719\n",
      "[1] 559.1026\n",
      "[1] 556.9489\n",
      "[1] 557.1433\n",
      "[1] 558.4314\n",
      "[1] 556.7981\n",
      "[1] 558.2434\n",
      "[1] 557.7558\n",
      "[1] 572.1994\n",
      "[1] 589.9974\n",
      "[1] 589.4884\n",
      "[1] 589.3841\n",
      "[1] 589.6661\n",
      "[1] 588.4628\n",
      "[1] 587.1047\n",
      "[1] 576.5472\n",
      "[1] 570.2388\n",
      "[1] 574.2242\n",
      "[1] 583.7586\n",
      "[1] 582.8353\n",
      "[1] 581.6145\n",
      "[1] 581.6429\n",
      "[1] 582.027\n",
      "[1] 582.8787\n"
     ]
    }
   ],
   "source": [
    "#MSE of all selected models\n",
    "for (i in 1:nvmax){\n",
    "    p <- predict.regsubsets(models.forward, validation, id = i)\n",
    "    MSE <- mean((p - validation$VALENCE.PLEASANTNESS)^2)\n",
    "    print(MSE)\n",
    "}\n"
   ]
  },
  {
   "cell_type": "code",
   "execution_count": null,
   "metadata": {},
   "outputs": [],
   "source": []
  }
 ],
 "metadata": {
  "kernelspec": {
   "display_name": "R",
   "language": "R",
   "name": "ir"
  },
  "language_info": {
   "codemirror_mode": "r",
   "file_extension": ".r",
   "mimetype": "text/x-r-source",
   "name": "R",
   "pygments_lexer": "r",
   "version": "3.6.1"
  }
 },
 "nbformat": 4,
 "nbformat_minor": 4
}
