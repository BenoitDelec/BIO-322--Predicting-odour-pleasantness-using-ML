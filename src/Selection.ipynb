{
 "cells": [
  {
   "cell_type": "code",
   "execution_count": 30,
   "metadata": {},
   "outputs": [],
   "source": [
    "train.data <- read.csv(file.path(\"..\", \"data\", \"training_data.csv\"))\n",
    "test.data <- read.csv(file.path(\"..\", \"data\", \"test_data.csv\"))\n",
    "sampleSubmission <- read.csv(file.path(\"..\", \"data\", \"sampleSubmission.csv\"))"
   ]
  },
  {
   "cell_type": "code",
   "execution_count": 6,
   "metadata": {},
   "outputs": [
    {
     "data": {
      "text/html": [
       "<ol class=list-inline>\n",
       "\t<li>708</li>\n",
       "\t<li>4872</li>\n",
       "</ol>\n"
      ],
      "text/latex": [
       "\\begin{enumerate*}\n",
       "\\item 708\n",
       "\\item 4872\n",
       "\\end{enumerate*}\n"
      ],
      "text/markdown": [
       "1. 708\n",
       "2. 4872\n",
       "\n",
       "\n"
      ],
      "text/plain": [
       "[1]  708 4872"
      ]
     },
     "metadata": {},
     "output_type": "display_data"
    }
   ],
   "source": [
    "dim(train.data)"
   ]
  },
  {
   "cell_type": "code",
   "execution_count": 44,
   "metadata": {},
   "outputs": [],
   "source": [
    "#delets dependent variables\n",
    "train.dub <- train.data[!duplicated(as.list(train.data))]\n",
    "\n",
    "\n",
    "#Separate the dataset in predictors and responses\n",
    "V.data.x = data.frame(train.dub[, -which(names(train.data) == \"VALENCE.PLEASANTNESS\")])   #All the features \n",
    "V.data.y = train.data$VALENCE.PLEASANTNESS  #the response"
   ]
  },
  {
   "cell_type": "code",
   "execution_count": 45,
   "metadata": {},
   "outputs": [
    {
     "data": {
      "text/html": [
       "<ol class=list-inline>\n",
       "\t<li>708</li>\n",
       "\t<li>2882</li>\n",
       "</ol>\n"
      ],
      "text/latex": [
       "\\begin{enumerate*}\n",
       "\\item 708\n",
       "\\item 2882\n",
       "\\end{enumerate*}\n"
      ],
      "text/markdown": [
       "1. 708\n",
       "2. 2882\n",
       "\n",
       "\n"
      ],
      "text/plain": [
       "[1]  708 2882"
      ]
     },
     "metadata": {},
     "output_type": "display_data"
    }
   ],
   "source": [
    "dim(V.data.x)"
   ]
  },
  {
   "cell_type": "code",
   "execution_count": 46,
   "metadata": {},
   "outputs": [
    {
     "name": "stderr",
     "output_type": "stream",
     "text": [
      "── Attaching packages ────────────────────────────────────── tidymodels 0.1.2 ──\n",
      "✔ broom     0.7.2      ✔ recipes   0.1.15\n",
      "✔ dials     0.0.9      ✔ rsample   0.0.8 \n",
      "✔ dplyr     1.0.2      ✔ tibble    3.0.4 \n",
      "✔ infer     0.5.3      ✔ tidyr     1.1.2 \n",
      "✔ modeldata 0.1.0      ✔ tune      0.1.2 \n",
      "✔ parsnip   0.1.4      ✔ workflows 0.2.1 \n",
      "✔ purrr     0.3.4      ✔ yardstick 0.0.7 \n",
      "── Conflicts ───────────────────────────────────────── tidymodels_conflicts() ──\n",
      "✖ purrr::discard()     masks scales::discard()\n",
      "✖ dplyr::filter()      masks stats::filter()\n",
      "✖ dplyr::lag()         masks stats::lag()\n",
      "✖ dplyr::src()         masks Hmisc::src()\n",
      "✖ recipes::step()      masks stats::step()\n",
      "✖ dplyr::summarize()   masks Hmisc::summarize()\n",
      "✖ parsnip::translate() masks Hmisc::translate()\n"
     ]
    }
   ],
   "source": [
    "#data set with VALENCE.PLEASANTNESS + V.. (with low varinace)\n",
    "library(tidymodels)\n",
    "library(leaps)\n",
    "\n",
    "#V.data = data frame with removed low variance features\n",
    "length <- length(train.dub[1,])\n",
    "V.data.x$Intensity = as.numeric(V.data.x$Intensity)\n",
    "idx.low.var <- apply(V.data.x, 2, var) < 0.24 # identify pixels with low variance \n",
    "V.data <- data.frame(V.data.x)\n",
    "V.data <- data.frame(V.data[,!idx.low.var])\n",
    "V.data$VALENCE.PLEASANTNESS <- train.data$VALENCE.PLEASANTNESS\n"
   ]
  },
  {
   "cell_type": "code",
   "execution_count": 74,
   "metadata": {},
   "outputs": [
    {
     "data": {
      "text/html": [
       "<ol class=list-inline>\n",
       "\t<li>708</li>\n",
       "\t<li>1577</li>\n",
       "</ol>\n"
      ],
      "text/latex": [
       "\\begin{enumerate*}\n",
       "\\item 708\n",
       "\\item 1577\n",
       "\\end{enumerate*}\n"
      ],
      "text/markdown": [
       "1. 708\n",
       "2. 1577\n",
       "\n",
       "\n"
      ],
      "text/plain": [
       "[1]  708 1577"
      ]
     },
     "metadata": {},
     "output_type": "display_data"
    }
   ],
   "source": [
    "dim(V.data)"
   ]
  },
  {
   "cell_type": "code",
   "execution_count": 73,
   "metadata": {},
   "outputs": [
    {
     "data": {
      "text/html": [
       "<ol class=list-inline>\n",
       "\t<li>708</li>\n",
       "\t<li>364</li>\n",
       "</ol>\n"
      ],
      "text/latex": [
       "\\begin{enumerate*}\n",
       "\\item 708\n",
       "\\item 364\n",
       "\\end{enumerate*}\n"
      ],
      "text/markdown": [
       "1. 708\n",
       "2. 364\n",
       "\n",
       "\n"
      ],
      "text/plain": [
       "[1] 708 364"
      ]
     },
     "metadata": {},
     "output_type": "display_data"
    }
   ],
   "source": [
    "#Correlation on the data : enlever tous les features qui ont une corrélation supérieure à 0.9\n",
    "library(Hmisc) \n",
    "library(corrplot)\n",
    "library(caret)\n",
    "library(corrplot)\n",
    "library(plyr)\n",
    "\n",
    "\n",
    "corrData = scale(V.data)  # normalize the data frame. This will also convert to a matrix. \n",
    "descrCor <- cor(corrData) # Access the correlation matrix (Pearson's coefficients)\n",
    "#descrCor\n",
    "\n",
    "highlyCorrelated <- findCorrelation(descrCor, cutoff=0.9)  #Renvoie les indices des features qui sont \n",
    "highlyCorCol <- colnames(V.data)[highlyCorrelated]\n",
    "#highlyCorCol\n",
    "\n",
    "UnCorrelatedData <- V.data[, -which(colnames(V.data) %in% highlyCorCol)]\n",
    "#UnCorrelatedData\n",
    "dim(UnCorrelatedData)"
   ]
  },
  {
   "cell_type": "code",
   "execution_count": null,
   "metadata": {},
   "outputs": [],
   "source": [
    "#split the data set into a training set and a validation set\n",
    "dim <- length(UnCorrelatedData[,1])\n",
    "idx.validation <- sample(1:dim, dim/3)\n",
    "\n",
    "train <- UnCorrelatedData[-idx.validation,]\n",
    "validation <- UnCorrelatedData[idx.validation,]\n"
   ]
  },
  {
   "cell_type": "code",
   "execution_count": 89,
   "metadata": {},
   "outputs": [
    {
     "name": "stderr",
     "output_type": "stream",
     "text": [
      "Warning message in predict.lm(lmMod, validation):\n",
      "“prediction from a rank-deficient fit may be misleading”"
     ]
    },
    {
     "data": {
      "text/html": [
       "7238681.70611284"
      ],
      "text/latex": [
       "7238681.70611284"
      ],
      "text/markdown": [
       "7238681.70611284"
      ],
      "text/plain": [
       "[1] 7238682"
      ]
     },
     "metadata": {},
     "output_type": "display_data"
    }
   ],
   "source": [
    "#Try linear regression\n",
    "lmMod <- lm(train$VALENCE.PLEASANTNESS ~ ., data=train)  # build the model\n",
    "distPred <- predict(lmMod, validation)  # predict distance\n",
    "MSE <- mean((distPred - validation$VALENCE.PLEASANTNESS)^2)"
   ]
  },
  {
   "cell_type": "code",
   "execution_count": 90,
   "metadata": {},
   "outputs": [],
   "source": [
    "library(leaps)"
   ]
  },
  {
   "cell_type": "code",
   "execution_count": 91,
   "metadata": {},
   "outputs": [
    {
     "name": "stderr",
     "output_type": "stream",
     "text": [
      "Warning message in leaps.setup(x, y, wt = wt, nbest = nbest, nvmax = nvmax, force.in = force.in, :\n",
      "“60  linear dependencies found”"
     ]
    },
    {
     "name": "stdout",
     "output_type": "stream",
     "text": [
      "Reordering variables and trying again:\n"
     ]
    }
   ],
   "source": [
    "#forward selection \n",
    "nvmax = 50\n",
    "models.forward <- regsubsets(VALENCE.PLEASANTNESS ~ ., data = train, nvmax = nvmax, method = 'forward')\n"
   ]
  },
  {
   "cell_type": "code",
   "execution_count": 92,
   "metadata": {},
   "outputs": [],
   "source": [
    "predict.regsubsets <- function(object,newdata,id,...){\n",
    "form <- as.formula(object$call[[2]])\n",
    "mat <- model.matrix(form,newdata)\n",
    "coefi <- coef(object,id=id)\n",
    "xvars <- names(coefi)\n",
    "mat[,xvars]%*%coefi\n",
    "}\n",
    "\n"
   ]
  },
  {
   "cell_type": "code",
   "execution_count": 93,
   "metadata": {},
   "outputs": [
    {
     "name": "stdout",
     "output_type": "stream",
     "text": [
      "[1] 574.4654\n",
      "[1] 583.8883\n",
      "[1] 572.6534\n",
      "[1] 575.9336\n",
      "[1] 574.43\n",
      "[1] 565.6416\n",
      "[1] 564.4326\n",
      "[1] 560.0872\n",
      "[1] 559.4106\n",
      "[1] 559.8461\n",
      "[1] 552.0904\n",
      "[1] 554.9741\n",
      "[1] 555.5677\n",
      "[1] 554.1021\n",
      "[1] 562.0664\n",
      "[1] 558.8103\n",
      "[1] 576.2027\n",
      "[1] 579.389\n",
      "[1] 580.7213\n",
      "[1] 579.5571\n",
      "[1] 579.5264\n",
      "[1] 578.3436\n",
      "[1] 580.8111\n",
      "[1] 576.1535\n",
      "[1] 578.4499\n",
      "[1] 580.8109\n",
      "[1] 583.9607\n",
      "[1] 586.1458\n",
      "[1] 586.1264\n",
      "[1] 584.07\n",
      "[1] 584.9518\n",
      "[1] 589.3683\n",
      "[1] 588.4743\n",
      "[1] 587.3372\n",
      "[1] 591.5947\n",
      "[1] 593.8715\n",
      "[1] 593.8106\n",
      "[1] 591.7948\n",
      "[1] 594.4287\n",
      "[1] 601.4251\n",
      "[1] 598.2412\n",
      "[1] 600.8691\n",
      "[1] 600.6789\n",
      "[1] 598.8773\n",
      "[1] 604.0274\n",
      "[1] 606.0289\n",
      "[1] 616.221\n",
      "[1] 617.3411\n",
      "[1] 617.3481\n",
      "[1] 617.3263\n"
     ]
    }
   ],
   "source": [
    "#MSE of all selected models\n",
    "for (i in 1:nvmax){\n",
    "    p <- predict.regsubsets(models.forward, validation, id = i)\n",
    "    MSE <- mean((p - validation$VALENCE.PLEASANTNESS)^2)\n",
    "    print(MSE)\n",
    "}\n"
   ]
  },
  {
   "cell_type": "code",
   "execution_count": null,
   "metadata": {},
   "outputs": [],
   "source": []
  }
 ],
 "metadata": {
  "kernelspec": {
   "display_name": "R",
   "language": "R",
   "name": "ir"
  },
  "language_info": {
   "codemirror_mode": "r",
   "file_extension": ".r",
   "mimetype": "text/x-r-source",
   "name": "R",
   "pygments_lexer": "r",
   "version": "3.6.1"
  }
 },
 "nbformat": 4,
 "nbformat_minor": 4
}
