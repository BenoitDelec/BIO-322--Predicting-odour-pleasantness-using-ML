{
 "cells": [
  {
   "cell_type": "code",
   "execution_count": 7,
   "metadata": {},
   "outputs": [],
   "source": [
    "train.data <- read.csv(file.path(\"..\", \"data\", \"training_data.csv\"))\n",
    "test.data <- read.csv(file.path(\"..\", \"data\", \"test_data.csv\"))\n",
    "sampleSubmission <- read.csv(file.path(\"..\", \"data\", \"sampleSubmission.csv\"))"
   ]
  },
  {
   "cell_type": "code",
   "execution_count": 8,
   "metadata": {},
   "outputs": [],
   "source": [
    "#delets dependent variables\n",
    "train.dub <- train.data[!duplicated(as.list(train.data))]\n"
   ]
  },
  {
   "cell_type": "code",
   "execution_count": 9,
   "metadata": {},
   "outputs": [],
   "source": [
    "#data set with VALENCE.PLEASANTNESS + V.. (with low varinace)\n",
    "length <- length(train.dub[1,])\n",
    "idx.low.var <- apply(train.dub[,4:length], 2, var) < 0.24 # identify pixels with low variance \n",
    "V.data <- data.frame(train.dub[,4:length])\n",
    "V.data <- data.frame(V.data[,!idx.low.var])\n",
    "V.data$VALENCE.PLEASANTNESS <- train.data$VALENCE.PLEASANTNESS\n",
    "\n",
    "#split the data set into a training set and a validation set\n",
    "dim <- length(V.data[,1])\n",
    "idx.validation <- sample(1:dim, dim/3)\n",
    "\n",
    "train <- V.data[-idx.validation,]\n",
    "validation <- V.data[idx.validation,]\n",
    "\n"
   ]
  },
  {
   "cell_type": "code",
   "execution_count": 11,
   "metadata": {},
   "outputs": [],
   "source": [
    "library(leaps)"
   ]
  },
  {
   "cell_type": "code",
   "execution_count": 12,
   "metadata": {},
   "outputs": [],
   "source": [
    "#forward selection \n",
    "nvmax = 50\n",
    "models.forward <- regsubsets(VALENCE.PLEASANTNESS ~ ., data = train, nvmax = nvmax, method = 'forward')\n"
   ]
  },
  {
   "cell_type": "code",
   "execution_count": 13,
   "metadata": {},
   "outputs": [],
   "source": [
    "predict.regsubsets <- function(object,newdata,id,...){\n",
    "form <- as.formula(object$call[[2]])\n",
    "mat <- model.matrix(form,newdata)\n",
    "coefi <- coef(object,id=id)\n",
    "xvars <- names(coefi)\n",
    "mat[,xvars]%*%coefi\n",
    "}\n",
    "\n"
   ]
  },
  {
   "cell_type": "code",
   "execution_count": 15,
   "metadata": {},
   "outputs": [
    {
     "name": "stdout",
     "output_type": "stream",
     "text": [
      "[1] 571.5789\n",
      "[1] 549.7127\n",
      "[1] 550.9349\n",
      "[1] 560.389\n",
      "[1] 553.9221\n",
      "[1] 548.5557\n",
      "[1] 533.4722\n",
      "[1] 538.0865\n",
      "[1] 534.7593\n",
      "[1] 537.2705\n",
      "[1] 535.263\n",
      "[1] 541.1595\n",
      "[1] 554.3138\n",
      "[1] 557.5567\n",
      "[1] 564.0819\n",
      "[1] 559.2748\n",
      "[1] 559.3812\n",
      "[1] 562.7809\n",
      "[1] 566.1274\n",
      "[1] 571.3053\n",
      "[1] 582.3196\n",
      "[1] 578.3625\n",
      "[1] 575.2865\n",
      "[1] 570.1754\n",
      "[1] 567.9635\n",
      "[1] 568.7708\n",
      "[1] 563.3812\n",
      "[1] 561.9431\n",
      "[1] 562.0193\n",
      "[1] 561.9961\n",
      "[1] 564.865\n",
      "[1] 567.8246\n",
      "[1] 568.1862\n",
      "[1] 568.5194\n",
      "[1] 571.3947\n",
      "[1] 566.8093\n",
      "[1] 562.3213\n",
      "[1] 566.0267\n",
      "[1] 562.7268\n",
      "[1] 562.4681\n",
      "[1] 563.6276\n",
      "[1] 560.4724\n",
      "[1] 559.6155\n",
      "[1] 562.8109\n",
      "[1] 564.9638\n",
      "[1] 567.8904\n",
      "[1] 567.1246\n",
      "[1] 569.4156\n",
      "[1] 566.7771\n",
      "[1] 566.0377\n"
     ]
    }
   ],
   "source": [
    "#MSE of all selected models\n",
    "for (i in 1:nvmax){\n",
    "    p <- predict.regsubsets(models.forward, validation, id = i)\n",
    "    MSE <- mean((p - validation$VALENCE.PLEASANTNESS)^2)\n",
    "    print(MSE)\n",
    "}\n"
   ]
  },
  {
   "cell_type": "code",
   "execution_count": null,
   "metadata": {},
   "outputs": [],
   "source": []
  }
 ],
 "metadata": {
  "kernelspec": {
   "display_name": "R",
   "language": "R",
   "name": "ir"
  },
  "language_info": {
   "codemirror_mode": "r",
   "file_extension": ".r",
   "mimetype": "text/x-r-source",
   "name": "R",
   "pygments_lexer": "r",
   "version": "3.6.1"
  }
 },
 "nbformat": 4,
 "nbformat_minor": 4
}
