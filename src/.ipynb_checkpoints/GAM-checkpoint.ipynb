{
 "cells": [
  {
   "cell_type": "code",
   "execution_count": null,
   "metadata": {},
   "outputs": [],
   "source": [
    "library(gam)  "
   ]
  },
  {
   "cell_type": "markdown",
   "metadata": {},
   "source": [
    "GAMs allow us to fit a non-linear function to each independent variable, so that we can automatically model non-linear relationships that standard linear regression will miss."
   ]
  },
  {
   "cell_type": "code",
   "execution_count": 2,
   "metadata": {},
   "outputs": [],
   "source": [
    "train.data <- read.csv(file.path(\"..\", \"data\", \"training_data.csv\"))\n",
    "test.data <- read.csv(file.path(\"..\", \"data\", \"test_data.csv\"))"
   ]
  },
  {
   "cell_type": "code",
   "execution_count": null,
   "metadata": {},
   "outputs": [],
   "source": [
    "#searching for input variables with zero variance (without the varible Intensity)\n",
    "y <- train.data$VALENCE.PLEASANTNESS\n",
    "x <- train.data[, -c(2,3)]\n",
    "x$Intensity <- as.numeric(train.data$Intensity)\n",
    "idx.zero.var <- apply(x, 2, var) == 0\n",
    "x <- x[,!idx.zero.var]"
   ]
  },
  {
   "cell_type": "code",
   "execution_count": null,
   "metadata": {},
   "outputs": [],
   "source": [
    "len <- length(x[,1])\n",
    "idx.train <- sample(1:len, 2*len/3)\n",
    "\n",
    "data.train.x <- x[idx.train,]\n",
    "data.train.y <- y[idx.train]\n",
    "\n",
    "validation <- x[-idx.train,]\n",
    "validation$VALENCE.PLEASANTNESS <- y[-idx.train]\n",
    "\n",
    "\n",
    "#GAM regression\n",
    "#gam.fit <- gam(data.train.y ~.-data.train.y, data.frame(data.train.x,data.train.y), family = gaussian)\n"
   ]
  },
  {
   "cell_type": "code",
   "execution_count": null,
   "metadata": {},
   "outputs": [],
   "source": [
    "gam.prediction = predict(gam.fit, data.frame(validation), type = \"response\")"
   ]
  }
 ],
 "metadata": {
  "kernelspec": {
   "display_name": "R",
   "language": "R",
   "name": "ir"
  },
  "language_info": {
   "codemirror_mode": "r",
   "file_extension": ".r",
   "mimetype": "text/x-r-source",
   "name": "R",
   "pygments_lexer": "r",
   "version": "3.6.1"
  }
 },
 "nbformat": 4,
 "nbformat_minor": 4
}
