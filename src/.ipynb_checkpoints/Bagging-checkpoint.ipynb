{
 "cells": [
  {
   "cell_type": "code",
   "execution_count": 1,
   "metadata": {},
   "outputs": [],
   "source": [
    "train.data <- read.csv(file.path(\"..\", \"data\", \"training_data.csv\"))\n",
    "test.data <- read.csv(file.path(\"..\", \"data\", \"test_data.csv\"))"
   ]
  },
  {
   "cell_type": "code",
   "execution_count": 3,
   "metadata": {},
   "outputs": [],
   "source": [
    "library(ggplot2)\n",
    "library(lattice)\n",
    "\n",
    "#searching for input variables with zero variance (without the varible Intensity)\n",
    "x <- train.data[, -c(1,2,3)]\n",
    "idx.zero.var <- apply(x, 2, var) == 0\n",
    "x <- x[,!idx.zero.var]\n",
    "\n",
    "#attache Intensity as factor\n",
    "x$Intensity <- as.numeric(train.data$Intensity) -1\n",
    "\n",
    "#Output variable\n",
    "y <- train.data$VALENCE.PLEASANTNESS\n",
    "\n",
    "#Data without predictors with a correlation index above 0.85\n",
    "library(caret)\n",
    "\n",
    "corrMatrix <- cor(x) # Access the correlation matrix (Pearson's coefficients)\n",
    "highlyCorrelated <- findCorrelation(corrMatrix, cutoff = 0.9)  # removes all indices of features which have a correlation of 0.9 or above\n",
    "highlyCorrCol <- colnames(x)[highlyCorrelated]\n",
    "corr.x <- x[, -which(colnames(x) %in% highlyCorrCol)]  #Data frame with only uncorrelated data\n",
    "\n",
    "corr.data <- corr.x\n",
    "corr.data$VALENCE.PLEASANTNESS <- y"
   ]
  },
  {
   "cell_type": "code",
   "execution_count": 6,
   "metadata": {},
   "outputs": [],
   "source": [
    "library(randomForest)\n",
    "library(tidymodels)\n",
    "\n",
    "set.seed(1)\n",
    "\n",
    "#Function for Cross-Validation and Predictions\n",
    "fit_and_evaluate <- function(fold, formula = VALENCE.PLEASANTNESS ~ ., mtry = 10, ntree = 100, maxnodes = 30) {\n",
    "    random.Forest <- randomForest::randomForest(VALENCE.PLEASANTNESS ~ ., fold, mtry = mtry, ntree = ntree, maxnodes = maxnodes)\n",
    "    valid.set <- assessment(fold)\n",
    "    mean((valid.set$VALENCE.PLEASANTNESS - predict(random.Forest, valid.set))^2)\n",
    "}\n",
    "\n",
    "#Cross-Validation set\n",
    "validation_data <- vfold_cv(corr.data, v = 5)  \n",
    "\n",
    "mtry <- length(corr.x) #Bagging\n",
    "ntree <- seq.int(100,2000,50)\n",
    "maxnodes <- seq.int(20,35)\n",
    "\n",
    "ntree.best <- 0\n",
    "maxnodes.best <- 0"
   ]
  },
  {
   "cell_type": "markdown",
   "metadata": {},
   "source": [
    "## Cross-Validation of parameters "
   ]
  },
  {
   "cell_type": "code",
   "execution_count": 7,
   "metadata": {},
   "outputs": [],
   "source": [
    "cv.errors <- c()\n",
    "for (i in ntree){\n",
    "    cv.errors <- rbind(cv.errors, sapply(validation_data$splits, fit_and_evaluate, mtry = mtry, maxnodes = 30, ntree = i)) \n",
    "}\n",
    "mean.cv.errors <- rowMeans(cv.errors)"
   ]
  },
  {
   "cell_type": "code",
   "execution_count": 8,
   "metadata": {},
   "outputs": [
    {
     "name": "stderr",
     "output_type": "stream",
     "text": [
      "Saving 6.67 x 6.67 in image\n",
      "\n"
     ]
    },
    {
     "name": "stdout",
     "output_type": "stream",
     "text": [
      "min. less corr. error =  471.0105"
     ]
    },
    {
     "data": {
      "image/png": "[encoded data removed]",
      "text/plain": [
       "plot without title"
      ]
     },
     "metadata": {
      "image/png": {
       "height": 420,
       "width": 420
      }
     },
     "output_type": "display_data"
    }
   ],
   "source": [
    "min <- which.min(mean.cv.errors)\n",
    "ntree.best <- ntree[min]\n",
    "\n",
    "theme_update(plot.title = element_text(hjust = 0.5, size = 20))\n",
    "\n",
    "data <- data.frame(\"ntree\" = ntree, \"CV_MSE\" = mean.cv.errors)\n",
    "data %>% ggplot(aes(x = ntree, y = CV_MSE)) + geom_line() + ggtitle(\"5-fold CV for ntree with less correlated data\") + \n",
    "geom_point(aes(ntree.best, mean.cv.errors[min]), col = \"red\")\n",
    "ggsave(\"../Pictures/bagging_ntree.png\")\n",
    "\n",
    "cat(\"min. less corr. error = \", mean.cv.errors[min])"
   ]
  },
  {
   "cell_type": "code",
   "execution_count": 9,
   "metadata": {},
   "outputs": [],
   "source": [
    "cv.errors <- c()\n",
    "for (i in maxnodes){\n",
    "    cv.errors <- rbind(cv.errors, sapply(validation_data$splits, fit_and_evaluate, mtry = mtry, maxnodes = i, ntree = ntree.best)) \n",
    "}\n",
    "mean.cv.errors <- rowMeans(cv.errors)"
   ]
  },
  {
   "cell_type": "code",
   "execution_count": 10,
   "metadata": {},
   "outputs": [
    {
     "name": "stderr",
     "output_type": "stream",
     "text": [
      "Saving 6.67 x 6.67 in image\n",
      "\n"
     ]
    },
    {
     "name": "stdout",
     "output_type": "stream",
     "text": [
      "min. less corr. error =  470.7193"
     ]
    },
    {
     "data": {
      "image/png": "[encoded data removed]",
      "text/plain": [
       "plot without title"
      ]
     },
     "metadata": {
      "image/png": {
       "height": 420,
       "width": 420
      }
     },
     "output_type": "display_data"
    }
   ],
   "source": [
    "min <- which.min(mean.cv.errors)\n",
    "maxnodes.best <- maxnodes[min]\n",
    "\n",
    "theme_update(plot.title = element_text(hjust = 0.5, size = 20))\n",
    "\n",
    "data <- data.frame(\"maxnodes\" = maxnodes, \"CV_MSE\" = mean.cv.errors)\n",
    "data %>% ggplot(aes(x = maxnodes, y = CV_MSE)) + geom_line() + ggtitle(\"5-fold CV for maxnodes with less correlated data\") + \n",
    "geom_point(aes(maxnodes.best, mean.cv.errors[min]), col = \"red\")\n",
    "ggsave(\"../Pictures/bagging_maxnodes.png\")\n",
    "\n",
    "cat(\"min. less corr. error = \", mean.cv.errors[min])"
   ]
  },
  {
   "cell_type": "code",
   "execution_count": 11,
   "metadata": {},
   "outputs": [
    {
     "name": "stdout",
     "output_type": "stream",
     "text": [
      "The best parameters for bagging are: ntree =  1000  and maxnodes =  27"
     ]
    }
   ],
   "source": [
    "cat(\"The best parameters for bagging are: ntree = \", ntree.best, \" and maxnodes = \", maxnodes.best)"
   ]
  },
  {
   "cell_type": "markdown",
   "metadata": {},
   "source": [
    "## Validation"
   ]
  },
  {
   "cell_type": "code",
   "execution_count": 12,
   "metadata": {},
   "outputs": [
    {
     "name": "stdout",
     "output_type": "stream",
     "text": [
      "The mean RMSE is =  21.67612  and the variance is =  0.7114287"
     ]
    }
   ],
   "source": [
    "mtry <- length(corr.x)\n",
    "ntree.best <- 1000\n",
    "maxnodes.best <- 27\n",
    "\n",
    "library(randomForest)\n",
    "library(tidymodels)\n",
    "\n",
    "random.forest.validation <- function(seed){\n",
    "    set.seed(seed)\n",
    "    len <- length(corr.data[,1])\n",
    "    idx.train <- sample(1:len, 2*len/3)\n",
    "    train <- corr.data[idx.train, ]\n",
    "    validation <- corr.data[-idx.train, ]\n",
    "    \n",
    "    r.Forest <- randomForest::randomForest(VALENCE.PLEASANTNESS ~ ., train, mtry = mtry, ntree = ntree.best, maxnodes = maxnodes.best)\n",
    "    prediction <- predict(r.Forest, validation)\n",
    "    mean((prediction - validation$VALENCE.PLEASANTNESS)^2)\n",
    "    \n",
    "}\n",
    "seeds <- seq.int(100,150)\n",
    "MSEs <- sapply(seeds, random.forest.validation)\n",
    "mean.MSE <- mean(sqrt(MSEs))\n",
    "var <- var(sqrt(MSEs))\n",
    "cat(\"The mean RMSE is = \", mean.MSE, \" and the variance is = \", var)"
   ]
  },
  {
   "cell_type": "markdown",
   "metadata": {},
   "source": [
    "## Submission"
   ]
  },
  {
   "cell_type": "code",
   "execution_count": 22,
   "metadata": {},
   "outputs": [],
   "source": [
    "#Random Forest Submission\n",
    "set.seed(1)\n",
    "#Preparation of training and test data\n",
    "train <- train.data[, -c(1,2,3)]\n",
    "idx.zero.var <- apply(train, 2, var) == 0\n",
    "\n",
    "train <- train[,!idx.zero.var]\n",
    "test <- test.data[,-c(1,2)]\n",
    "test <- test[,!idx.zero.var]\n",
    "\n",
    "corrMatrix <- cor(train) # Access the correlation matrix (Pearson's coefficients)\n",
    "highlyCorrelated <- findCorrelation(corrMatrix, cutoff = 0.9)  # removes all indices of features which have a correlation of 0.85 or above\n",
    "highlyCorrCol <- colnames(train)[highlyCorrelated]\n",
    "train <- train[, -which(colnames(train) %in% highlyCorrCol)]  #Data frame with only uncorrelated data\n",
    "test <- test[,-which(colnames(test) %in% highlyCorrCol)]\n",
    "\n",
    "test$Intensity <- as.factor(test.data$Intensity)\n",
    "train$Intensity <- as.factor(train.data$Intensity)\n",
    "\n",
    "#test intensity is always at level high, so that the prediction function has a problem (cheat with adding a row that afterwards is substracted)\n",
    "test <- rbind(test, train[1,])\n",
    "\n",
    "\n",
    "train$VALENCE.PLEASANTNESS <- train.data$VALENCE.PLEASANTNESS\n",
    "\n",
    "bagging <- randomForest::randomForest(VALENCE.PLEASANTNESS ~ ., train, mtry = 851, ntree = 1000, maxnodes = 27)\n",
    "bagging.prediction <- predict(bagging, test)\n",
    "\n",
    "#substracting added row\n",
    "len <- length(bagging.prediction)\n",
    "bagging.prediction <- bagging.prediction[-len]"
   ]
  },
  {
   "cell_type": "code",
   "execution_count": 23,
   "metadata": {},
   "outputs": [],
   "source": [
    "#Creation of csv submission-file\n",
    "submission <- data.frame(Id = 1:68, VALENCE.PLEASANTNESS = bagging.prediction)\n",
    "write.csv(submission, file = \"../Submissions/bagging.csv\", row.names = FALSE)"
   ]
  }
 ],
 "metadata": {
  "kernelspec": {
   "display_name": "R",
   "language": "R",
   "name": "ir"
  },
  "language_info": {
   "codemirror_mode": "r",
   "file_extension": ".r",
   "mimetype": "text/x-r-source",
   "name": "R",
   "pygments_lexer": "r",
   "version": "3.6.3"
  }
 },
 "nbformat": 4,
 "nbformat_minor": 4
}
