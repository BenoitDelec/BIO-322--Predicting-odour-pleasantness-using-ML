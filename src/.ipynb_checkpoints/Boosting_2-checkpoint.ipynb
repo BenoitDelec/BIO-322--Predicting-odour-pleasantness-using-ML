{
 "cells": [
  {
   "cell_type": "code",
   "execution_count": 1,
   "metadata": {},
   "outputs": [],
   "source": [
    "train.data <- read.csv(file.path(\"..\", \"data\", \"training_data.csv\"))\n",
    "test.data <- read.csv(file.path(\"..\", \"data\", \"test_data.csv\"))"
   ]
  },
  {
   "cell_type": "code",
   "execution_count": 2,
   "metadata": {},
   "outputs": [],
   "source": [
    "set.seed(100)\n",
    "numeric.intensity <- as.numeric(train.data$Intensity)\n",
    "\n",
    "x <- train.data[, -c(2,3)]\n",
    "x$Intensity <- numeric.intensity\n",
    "idx.zero.var <- apply(x, 2, var) == 0\n",
    "\n",
    "\n",
    "x <- x[,!idx.zero.var]\n",
    "y <- train.data$VALENCE.PLEASANTNESS\n",
    "\n",
    "x.train = x\n",
    "y.train = y\n",
    "\n",
    "# x = predicteurs avec Intensity en numeric \n",
    "# y = que la réponse\n",
    "\n",
    "#Test data : tout sauf les \n",
    "test <- test.data[,-c(1,2)]\n",
    "test$Intensity <- as.numeric(test.data$Intensity)\n",
    "test <- test[,!idx.zero.var]"
   ]
  },
  {
   "cell_type": "code",
   "execution_count": 28,
   "metadata": {},
   "outputs": [],
   "source": [
    "library(xgboost)\n",
    "dtrain = xgb.DMatrix(data =  as.matrix(x.train), label = y.train)\n"
   ]
  },
  {
   "cell_type": "code",
   "execution_count": 4,
   "metadata": {},
   "outputs": [],
   "source": [
    "#CROSS-VALIDATION\n",
    "best_param <- list()\n",
    "best_seednumber <- 1234\n",
    "best_rmse <- Inf\n",
    "best_rmse_index <- 0\n",
    "\n",
    "set.seed(123)\n",
    "for (iter in 1:50) {\n",
    "  param <- list(objective = \"reg:squarederror\",\n",
    "                eval_metric = \"rmse\",\n",
    "                max_depth = sample(3:7, 1),\n",
    "                eta = runif(1, .01, .3))\n",
    "  cv.nround <-  1000\n",
    "  cv.nfold <-  5 # 5-fold cross-validation\n",
    "  seed.number  <-  sample.int(10000, 1) # set seed for the cv\n",
    "  set.seed(seed.number)\n",
    "  mdcv <- xgb.cv(data = dtrain, params = param,  \n",
    "                 nfold = cv.nfold, nrounds = cv.nround,\n",
    "                 verbose = F, early_stopping_rounds = 8, maximize = FALSE)\n",
    "  min_rmse_index  <-  mdcv$best_iteration\n",
    "  min_rmse <-  mdcv$evaluation_log[min_rmse_index]$test_rmse_mean\n",
    "\n",
    "      if (min_rmse < best_rmse) {\n",
    "        best_rmse <- min_rmse\n",
    "        best_rmse_index <- min_rmse_index\n",
    "        best_seednumber <- seed.number\n",
    "        best_param <- param\n",
    "      }\n",
    "}\n",
    "nround = best_rmse_index\n",
    "set.seed(best_seednumber)"
   ]
  },
  {
   "cell_type": "code",
   "execution_count": 7,
   "metadata": {},
   "outputs": [
    {
     "data": {
      "text/html": [
       "<dl>\n",
       "\t<dt>$objective</dt>\n",
       "\t\t<dd>'reg:squarederror'</dd>\n",
       "\t<dt>$eval_metric</dt>\n",
       "\t\t<dd>'rmse'</dd>\n",
       "\t<dt>$max_depth</dt>\n",
       "\t\t<dd>3</dd>\n",
       "\t<dt>$eta</dt>\n",
       "\t\t<dd>0.123347996827215</dd>\n",
       "</dl>\n"
      ],
      "text/latex": [
       "\\begin{description}\n",
       "\\item[\\$objective] 'reg:squarederror'\n",
       "\\item[\\$eval\\_metric] 'rmse'\n",
       "\\item[\\$max\\_depth] 3\n",
       "\\item[\\$eta] 0.123347996827215\n",
       "\\end{description}\n"
      ],
      "text/markdown": [
       "$objective\n",
       ":   'reg:squarederror'\n",
       "$eval_metric\n",
       ":   'rmse'\n",
       "$max_depth\n",
       ":   3\n",
       "$eta\n",
       ":   0.123347996827215\n",
       "\n",
       "\n"
      ],
      "text/plain": [
       "$objective\n",
       "[1] \"reg:squarederror\"\n",
       "\n",
       "$eval_metric\n",
       "[1] \"rmse\"\n",
       "\n",
       "$max_depth\n",
       "[1] 3\n",
       "\n",
       "$eta\n",
       "[1] 0.123348\n"
      ]
     },
     "metadata": {},
     "output_type": "display_data"
    }
   ],
   "source": [
    "best_param"
   ]
  },
  {
   "cell_type": "code",
   "execution_count": 8,
   "metadata": {},
   "outputs": [],
   "source": [
    "xg_mod <- xgboost(data = dtrain, params = best_param, nround = nround, verbose = F)"
   ]
  },
  {
   "cell_type": "code",
   "execution_count": 33,
   "metadata": {},
   "outputs": [],
   "source": [
    "test = test[,c(which(colnames(test)==\"Intensity\"),which(colnames(test)!=\"Intensity\"))]\n",
    "colnames(test) <- NULL"
   ]
  },
  {
   "cell_type": "code",
   "execution_count": 34,
   "metadata": {},
   "outputs": [],
   "source": [
    "predictions = predict(xg_mod, xgb.DMatrix(data = as.matrix(test)))"
   ]
  },
  {
   "cell_type": "code",
   "execution_count": 36,
   "metadata": {},
   "outputs": [],
   "source": [
    "submission <- data.frame(Id = 1:68, VALENCE.PLEASANTNESS = predictions)\n",
    "write.csv(submission, file = \"../Submissions/boosting_cv.csv\", row.names = FALSE)"
   ]
  },
  {
   "cell_type": "code",
   "execution_count": null,
   "metadata": {},
   "outputs": [],
   "source": []
  }
 ],
 "metadata": {
  "kernelspec": {
   "display_name": "R",
   "language": "R",
   "name": "ir"
  },
  "language_info": {
   "codemirror_mode": "r",
   "file_extension": ".r",
   "mimetype": "text/x-r-source",
   "name": "R",
   "pygments_lexer": "r",
   "version": "3.6.1"
  }
 },
 "nbformat": 4,
 "nbformat_minor": 4
}
