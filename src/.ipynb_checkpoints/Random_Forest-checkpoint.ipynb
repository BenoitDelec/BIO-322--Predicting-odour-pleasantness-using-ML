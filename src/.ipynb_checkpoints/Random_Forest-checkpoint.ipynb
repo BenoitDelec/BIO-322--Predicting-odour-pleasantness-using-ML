{
 "cells": [
  {
   "cell_type": "code",
   "execution_count": 1,
   "metadata": {},
   "outputs": [],
   "source": [
    "train.data <- read.csv(file.path(\"..\", \"data\", \"training_data.csv\"))\n",
    "test.data <- read.csv(file.path(\"..\", \"data\", \"test_data.csv\"))"
   ]
  },
  {
   "cell_type": "code",
   "execution_count": 2,
   "metadata": {},
   "outputs": [],
   "source": [
    "#set seed for reproduction\n",
    "set.seed(1)\n",
    "\n",
    "#searching for input variables with zero variance (without the varible Intensity)\n",
    "x <- train.data[, -c(1,2,3)]\n",
    "idx.zero.var <- apply(x, 2, var) == 0\n",
    "x <- x[,!idx.zero.var]\n",
    "\n",
    "#attache Intensity as factor\n",
    "x$Intensity <- as.factor(train.data$Intensity)\n",
    "\n",
    "data <- x\n",
    "data$VALENCE.PLEASANTNESS <- train.data$VALENCE.PLEASANTNESS"
   ]
  },
  {
   "cell_type": "code",
   "execution_count": 4,
   "metadata": {},
   "outputs": [],
   "source": [
    "library(randomForest)\n",
    "library(tidymodels)\n",
    "\n",
    "#Function for Cross-Validation and Predictions\n",
    "fit_and_evaluate <- function(fold, formula = VALENCE.PLEASANTNESS ~ ., mtry = 1000, ntree = 500, maxnodes = 30) {\n",
    "    random.Forest <- randomForest::randomForest(VALENCE.PLEASANTNESS ~ ., fold, mtry = mtry, ntree = ntree, maxnodes = maxnodes)\n",
    "    valid.set <- assessment(fold)\n",
    "    mean((valid.set$VALENCE.PLEASANTNESS - predict(random.Forest, valid.set))^2)\n",
    "}\n",
    "\n",
    "#Cross-Validation set\n",
    "validation_data <- vfold_cv(data, v = 5)  \n",
    "\n",
    "mtry <- seq.int(1000,1100,2)\n",
    "ntree <- seq.int(100, 2000, 25)\n",
    "maxnodes <- seq.int(25,35)\n",
    "\n",
    "cv.errors_mtry <- c()\n",
    "cv.errors_ntree <- c()\n",
    "cv.errors_maxnodes <- c()"
   ]
  },
  {
   "cell_type": "markdown",
   "metadata": {},
   "source": [
    "We choose to set the three parameters mtry, ntree and maxnodes of the basic random Forest model to common values:\n",
    "- $ mtry = 1000 \\sim \\frac{predicotrs}{3} $\n",
    "- $ntree = 500$ medium value, to keep the computational burden within a limit but to reduce the variance enough\n",
    "- $maxnodes = 30$ medium value, in order to catch the complex dependencies but to not overfit the training data"
   ]
  },
  {
   "cell_type": "markdown",
   "metadata": {},
   "source": [
    "In the next section, we will sequently Cross-validate the three parameters. We will start with mtry and we will evaluate different values around the start value. Afterwards, we will set mtry to the best one and evaluate in the same way ntree. Again, we will also fix ntree to the best value, so that we will finally evaluate maxnodes."
   ]
  },
  {
   "cell_type": "markdown",
   "metadata": {},
   "source": [
    "## Cross-Validation of the parameters"
   ]
  },
  {
   "cell_type": "code",
   "execution_count": 5,
   "metadata": {},
   "outputs": [],
   "source": [
    "#Iteration of mtry (mtry around sqrt(number of predictors))\n",
    "for (i in mtry){   \n",
    "    cv.errors_mtry <- rbind(cv.errors_mtry, sapply(validation_data$splits, fit_and_evaluate, mtry = i))\n",
    "}"
   ]
  },
  {
   "cell_type": "code",
   "execution_count": 6,
   "metadata": {},
   "outputs": [
    {
     "name": "stderr",
     "output_type": "stream",
     "text": [
      "Saving 6.67 x 6.67 in image\n",
      "\n"
     ]
    },
    {
     "data": {
      "image/png": "[encoded data removed]",
      "text/plain": [
       "plot without title"
      ]
     },
     "metadata": {
      "image/png": {
       "height": 420,
       "width": 420
      }
     },
     "output_type": "display_data"
    }
   ],
   "source": [
    "mean.cv.errors_mtry <- rowMeans(cv.errors_mtry)\n",
    "cv.min_mtry <- which.min(mean.cv.errors_mtry)\n",
    "mtry.best <- mtry[cv.min_mtry]\n",
    "\n",
    "theme_update(plot.title = element_text(hjust = 0.5, size = 20))\n",
    "\n",
    "mtry.data <- data.frame(\"mtry\" = mtry, \"CV_MSE\" = mean.cv.errors_mtry)\n",
    "mtry.data %>% ggplot(aes(x = mtry, y = CV_MSE)) + geom_line() + ggtitle(\"5-fold CV for mtry\") + \n",
    "geom_point(aes(mtry.best, mean.cv.errors_mtry[cv.min_mtry]), col = \"red\")\n",
    "\n",
    "ggsave(\"../Pictures/mtry_1.png\")"
   ]
  },
  {
   "cell_type": "code",
   "execution_count": 7,
   "metadata": {},
   "outputs": [
    {
     "name": "stdout",
     "output_type": "stream",
     "text": [
      "The best mtry is =  1052 with an error of  476.9343"
     ]
    }
   ],
   "source": [
    "cat(\"The best mtry is = \", mtry.best, \"with an error of \", mean.cv.errors_mtry[cv.min_mtry])"
   ]
  },
  {
   "cell_type": "code",
   "execution_count": 8,
   "metadata": {},
   "outputs": [],
   "source": [
    "#Iteration of ntree\n",
    "for (i in ntree){   \n",
    "    cv.errors_ntree <- rbind(cv.errors_ntree, sapply(validation_data$splits, fit_and_evaluate, mtry = mtry.best, ntree = i))\n",
    "}"
   ]
  },
  {
   "cell_type": "code",
   "execution_count": 9,
   "metadata": {},
   "outputs": [
    {
     "name": "stderr",
     "output_type": "stream",
     "text": [
      "Saving 6.67 x 6.67 in image\n",
      "\n"
     ]
    },
    {
     "data": {
      "image/png": "[encoded data removed]",
      "text/plain": [
       "plot without title"
      ]
     },
     "metadata": {
      "image/png": {
       "height": 420,
       "width": 420
      }
     },
     "output_type": "display_data"
    }
   ],
   "source": [
    "mean.cv.errors_ntree <- rowMeans(cv.errors_ntree)\n",
    "cv.min_ntree <- which.min(mean.cv.errors_ntree)\n",
    "ntree.best <- ntree[cv.min_ntree]\n",
    "\n",
    "ntree.data <- data.frame(\"ntree\" = ntree, \"CV_MSE\" = mean.cv.errors_ntree)\n",
    "ntree.data %>% ggplot(aes(x = ntree, y = CV_MSE)) + geom_line() + ggtitle(\"5-fold CV for ntree\") + \n",
    "geom_point(aes(ntree.best, mean.cv.errors_ntree[cv.min_ntree]), col = \"red\")\n",
    "\n",
    "ggsave(\"../Pictures/ntree_1.png\")"
   ]
  },
  {
   "cell_type": "code",
   "execution_count": 10,
   "metadata": {},
   "outputs": [],
   "source": [
    "#Iteration of maxnodes\n",
    "for (i in maxnodes){   \n",
    "    cv.errors_maxnodes <- rbind(cv.errors_maxnodes, sapply(validation_data$splits, fit_and_evaluate, mtry = mtry.best, ntree = ntree.best, maxnodes = i))\n",
    "}"
   ]
  },
  {
   "cell_type": "code",
   "execution_count": 11,
   "metadata": {},
   "outputs": [
    {
     "name": "stderr",
     "output_type": "stream",
     "text": [
      "Saving 6.67 x 6.67 in image\n",
      "\n"
     ]
    },
    {
     "data": {
      "image/png": "[encoded data removed]",
      "text/plain": [
       "plot without title"
      ]
     },
     "metadata": {
      "image/png": {
       "height": 420,
       "width": 420
      }
     },
     "output_type": "display_data"
    }
   ],
   "source": [
    "mean.cv.errors_maxnodes <- rowMeans(cv.errors_maxnodes)\n",
    "cv.min_maxnodes <- which.min(mean.cv.errors_maxnodes)\n",
    "maxnodes.best <- maxnodes[cv.min_maxnodes]\n",
    "\n",
    "maxnodes.data <- data.frame(\"maxnodes\" = maxnodes, \"CV_MSE\" = mean.cv.errors_maxnodes)\n",
    "maxnodes.data %>% ggplot(aes(x = maxnodes, y = CV_MSE)) + geom_line() + ggtitle(\"5-fold CV for maxnodes\") + \n",
    "geom_point(aes(maxnodes.best, mean.cv.errors_maxnodes[cv.min_maxnodes]), col = \"red\")\n",
    "\n",
    "ggsave(\"../Pictures/maxnodes_1.png\")"
   ]
  },
  {
   "cell_type": "code",
   "execution_count": 12,
   "metadata": {},
   "outputs": [
    {
     "name": "stdout",
     "output_type": "stream",
     "text": [
      "The optimal parameters are: mtry =  1052  ntree =  475  and maxnodes =  25"
     ]
    }
   ],
   "source": [
    "cat(\"The optimal parameters are: mtry = \", mtry.best, \" ntree = \", ntree.best, \" and maxnodes = \", maxnodes.best)"
   ]
  },
  {
   "cell_type": "markdown",
   "metadata": {},
   "source": [
    "## Validation of best Model"
   ]
  },
  {
   "cell_type": "code",
   "execution_count": 15,
   "metadata": {},
   "outputs": [
    {
     "name": "stdout",
     "output_type": "stream",
     "text": [
      "The mean RMSE is =  21.72485  and the variance is =  0.7337022"
     ]
    }
   ],
   "source": [
    "library(randomForest)\n",
    "library(tidymodels)\n",
    "\n",
    "random.forest.validation <- function(seed){\n",
    "    set.seed(seed)\n",
    "    len <- length(data[,1])\n",
    "    idx.train <- sample(1:len, 2*len/3)\n",
    "    train <- data[idx.train, ]\n",
    "    validation <- data[-idx.train, ]\n",
    "\n",
    "    r.Forest <- randomForest::randomForest(VALENCE.PLEASANTNESS ~ ., train, mtry = 1052, ntree = 475, maxnodes = 25)\n",
    "    prediction <- predict(r.Forest, validation)\n",
    "    mean((prediction - validation$VALENCE.PLEASANTNESS)^2)\n",
    "    \n",
    "}\n",
    "seeds <- seq.int(100,150)\n",
    "MSEs <- sapply(seeds, random.forest.validation)\n",
    "mean.MSE <- mean(sqrt(MSEs))\n",
    "var <- var(sqrt(MSEs))\n",
    "cat(\"The mean RMSE is = \", mean.MSE, \" and the variance is = \", var)"
   ]
  },
  {
   "cell_type": "markdown",
   "metadata": {},
   "source": [
    "## Submission"
   ]
  },
  {
   "cell_type": "code",
   "execution_count": 1,
   "metadata": {},
   "outputs": [],
   "source": [
    "train.data <- read.csv(file.path(\"..\", \"data\", \"training_data.csv\"))\n",
    "test.data <- read.csv(file.path(\"..\", \"data\", \"test_data.csv\"))"
   ]
  },
  {
   "cell_type": "code",
   "execution_count": 2,
   "metadata": {},
   "outputs": [],
   "source": [
    "#Random Forest Submission\n",
    "set.seed(1)\n",
    "#Preparation of training and test data\n",
    "train <- train.data[, -c(1,2,3)]\n",
    "idx.zero.var <- apply(train, 2, var) == 0\n",
    "\n",
    "train <- train[,!idx.zero.var]\n",
    "test <- test.data[,-c(1,2)]\n",
    "test <- test[,!idx.zero.var]\n",
    "\n",
    "test$Intensity <- as.factor(test.data$Intensity)\n",
    "train$Intensity <- as.factor(train.data$Intensity)\n",
    "\n",
    "\n",
    "#test intensity is always at level high, so that the prediction function has a problem (cheat with adding a row that afterwards is substracted)\n",
    "test <- rbind(test, train[1,])\n",
    "\n",
    "\n",
    "train$VALENCE.PLEASANTNESS <- train.data$VALENCE.PLEASANTNESS\n",
    "\n",
    "r.Forest <- randomForest::randomForest(VALENCE.PLEASANTNESS ~ ., train, mtry = 1052, ntree = 475, maxnodes = 25)\n",
    "random.Forest.prediction <- predict(r.Forest, test)\n",
    "\n",
    "#substracting added row\n",
    "len <- length(random.Forest.prediction)\n",
    "random.Forest.prediction <- random.Forest.prediction[-len]\n"
   ]
  },
  {
   "cell_type": "code",
   "execution_count": 3,
   "metadata": {},
   "outputs": [],
   "source": [
    "#Creation of csv submission-file\n",
    "submission <- data.frame(Id = 1:68, VALENCE.PLEASANTNESS = random.Forest.prediction)\n",
    "write.csv(submission, file = \"../Submissions/random_forest.csv\", row.names = FALSE)"
   ]
  },
  {
   "cell_type": "code",
   "execution_count": null,
   "metadata": {},
   "outputs": [],
   "source": []
  }
 ],
 "metadata": {
  "kernelspec": {
   "display_name": "R",
   "language": "R",
   "name": "ir"
  },
  "language_info": {
   "codemirror_mode": "r",
   "file_extension": ".r",
   "mimetype": "text/x-r-source",
   "name": "R",
   "pygments_lexer": "r",
   "version": "3.6.1"
  }
 },
 "nbformat": 4,
 "nbformat_minor": 4
}
