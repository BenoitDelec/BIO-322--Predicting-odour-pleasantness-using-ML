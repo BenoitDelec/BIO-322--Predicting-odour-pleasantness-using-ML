{
 "cells": [
  {
   "cell_type": "code",
   "execution_count": 19,
   "metadata": {},
   "outputs": [],
   "source": [
    "train.data <- read.csv(file.path(\"..\", \"data\", \"training_data.csv\"))\n",
    "test.data <- read.csv(file.path(\"..\", \"data\", \"test_data.csv\"))\n",
    "sampleSubmission <- read.csv(file.path(\"..\", \"data\", \"sampleSubmission.csv\"))"
   ]
  },
  {
   "cell_type": "code",
   "execution_count": 20,
   "metadata": {},
   "outputs": [],
   "source": [
    "#Some information about the training data : \n",
    "\n",
    "# Sample size = 716 molecules smelled and a response is given based on 11788 predictors \n",
    "# Total dimension = X : 716x11788 = 8440208\n",
    "#                   Y : 1 x 11788 = 11788\n",
    "\n",
    "#FEATURES \n",
    "# X1 : name = intensity   ;   meaning = intensity of the odor   ; type = Factor with 2 levels : \"high\" (1) or \"low\" (2)\n",
    "# X2 : name = SWEETORSOUR ;   meaning = more sweet than sour ?  ; type = logi \"FALSE\" or \"TRUE (more sweet than sour)\"\n",
    "# X3-X11788 : name = V    ; meaning = physicochemical features  ; type = int (0 or 1) : have the feature or not ?\n",
    "\n",
    "\n",
    "#RESPONSE \n",
    "#Each of the 716 molecules were smelled and rated on their pleasantness\n",
    "# Y : name = VALENCE.PLEASANTNESS ;  meaning = how pleasant the odor is  ; type = int (0-100) : score for the smell\n"
   ]
  },
  {
   "cell_type": "code",
   "execution_count": null,
   "metadata": {},
   "outputs": [],
   "source": []
  },
  {
   "cell_type": "code",
   "execution_count": null,
   "metadata": {},
   "outputs": [],
   "source": []
  }
 ],
 "metadata": {
  "kernelspec": {
   "display_name": "R",
   "language": "R",
   "name": "ir"
  },
  "language_info": {
   "codemirror_mode": "r",
   "file_extension": ".r",
   "mimetype": "text/x-r-source",
   "name": "R",
   "pygments_lexer": "r",
   "version": "3.6.1"
  }
 },
 "nbformat": 4,
 "nbformat_minor": 4
}
