{
 "cells": [
  {
   "cell_type": "markdown",
   "metadata": {},
   "source": [
    "## Data"
   ]
  },
  {
   "cell_type": "code",
   "execution_count": 43,
   "metadata": {},
   "outputs": [],
   "source": [
    "train.data <- read.csv(file.path(\"..\", \"data\", \"training_data.csv\"))\n",
    "test.data <- read.csv(file.path(\"..\", \"data\", \"test_data.csv\"))"
   ]
  },
  {
   "cell_type": "code",
   "execution_count": 116,
   "metadata": {},
   "outputs": [
    {
     "data": {
      "text/html": [
       "<table>\n",
       "<caption>A data.frame: 6 × 4872</caption>\n",
       "<thead>\n",
       "\t<tr><th></th><th scope=col>Intensity</th><th scope=col>VALENCE.PLEASANTNESS</th><th scope=col>SWEETORSOUR</th><th scope=col>complexity.from.pubmed</th><th scope=col>MW</th><th scope=col>AMW</th><th scope=col>Sv</th><th scope=col>Se</th><th scope=col>Sp</th><th scope=col>Si</th><th scope=col>...</th><th scope=col>Psychotic.80</th><th scope=col>Psychotic.50</th><th scope=col>Hypertens.80</th><th scope=col>Hypertens.50</th><th scope=col>Hypnotic.80</th><th scope=col>Hypnotic.50</th><th scope=col>Neoplastic.80</th><th scope=col>Neoplastic.50</th><th scope=col>Infective.80</th><th scope=col>Infective.50</th></tr>\n",
       "\t<tr><th></th><th scope=col>&lt;fct&gt;</th><th scope=col>&lt;int&gt;</th><th scope=col>&lt;lgl&gt;</th><th scope=col>&lt;dbl&gt;</th><th scope=col>&lt;dbl&gt;</th><th scope=col>&lt;dbl&gt;</th><th scope=col>&lt;dbl&gt;</th><th scope=col>&lt;dbl&gt;</th><th scope=col>&lt;dbl&gt;</th><th scope=col>&lt;dbl&gt;</th><th scope=col>...</th><th scope=col>&lt;int&gt;</th><th scope=col>&lt;int&gt;</th><th scope=col>&lt;int&gt;</th><th scope=col>&lt;int&gt;</th><th scope=col>&lt;int&gt;</th><th scope=col>&lt;int&gt;</th><th scope=col>&lt;int&gt;</th><th scope=col>&lt;int&gt;</th><th scope=col>&lt;int&gt;</th><th scope=col>&lt;int&gt;</th></tr>\n",
       "</thead>\n",
       "<tbody>\n",
       "\t<tr><th scope=row>1</th><td>low </td><td>45</td><td>FALSE</td><td>302.0</td><td>208.33</td><td>5.952</td><td>19.698</td><td>34.491</td><td>21.523</td><td>39.571</td><td>...</td><td>0</td><td>0</td><td>1</td><td>0</td><td>1</td><td>0</td><td>1</td><td>0</td><td>1</td><td>0</td></tr>\n",
       "\t<tr><th scope=row>2</th><td>high</td><td>49</td><td> TRUE</td><td> 72.6</td><td>122.18</td><td>6.431</td><td>11.349</td><td>18.745</td><td>12.261</td><td>21.285</td><td>...</td><td>0</td><td>0</td><td>0</td><td>0</td><td>0</td><td>0</td><td>0</td><td>0</td><td>0</td><td>0</td></tr>\n",
       "\t<tr><th scope=row>3</th><td>high</td><td>56</td><td> TRUE</td><td>259.0</td><td>242.29</td><td>7.572</td><td>20.832</td><td>32.167</td><td>21.693</td><td>35.535</td><td>...</td><td>0</td><td>0</td><td>1</td><td>0</td><td>1</td><td>1</td><td>1</td><td>0</td><td>1</td><td>1</td></tr>\n",
       "\t<tr><th scope=row>4</th><td>high</td><td> 7</td><td>FALSE</td><td> 56.6</td><td> 88.12</td><td>6.294</td><td> 7.537</td><td>14.189</td><td> 7.955</td><td>16.080</td><td>...</td><td>0</td><td>0</td><td>0</td><td>0</td><td>0</td><td>0</td><td>0</td><td>0</td><td>0</td><td>0</td></tr>\n",
       "\t<tr><th scope=row>5</th><td>low </td><td>51</td><td>FALSE</td><td> 84.7</td><td>136.21</td><td>6.191</td><td>12.876</td><td>21.629</td><td>14.023</td><td>24.701</td><td>...</td><td>0</td><td>0</td><td>0</td><td>0</td><td>0</td><td>0</td><td>0</td><td>0</td><td>0</td><td>0</td></tr>\n",
       "\t<tr><th scope=row>6</th><td>high</td><td>21</td><td>FALSE</td><td>160.0</td><td>192.28</td><td>6.409</td><td>17.644</td><td>29.723</td><td>19.000</td><td>33.740</td><td>...</td><td>0</td><td>0</td><td>0</td><td>0</td><td>1</td><td>0</td><td>1</td><td>0</td><td>1</td><td>0</td></tr>\n",
       "</tbody>\n",
       "</table>\n"
      ],
      "text/latex": [
       "A data.frame: 6 × 4872\n",
       "\\begin{tabular}{r|lllllllllllllllllllll}\n",
       "  & Intensity & VALENCE.PLEASANTNESS & SWEETORSOUR & complexity.from.pubmed & MW & AMW & Sv & Se & Sp & Si & ... & Psychotic.80 & Psychotic.50 & Hypertens.80 & Hypertens.50 & Hypnotic.80 & Hypnotic.50 & Neoplastic.80 & Neoplastic.50 & Infective.80 & Infective.50\\\\\n",
       "  & <fct> & <int> & <lgl> & <dbl> & <dbl> & <dbl> & <dbl> & <dbl> & <dbl> & <dbl> & ... & <int> & <int> & <int> & <int> & <int> & <int> & <int> & <int> & <int> & <int>\\\\\n",
       "\\hline\n",
       "\t1 & low  & 45 & FALSE & 302.0 & 208.33 & 5.952 & 19.698 & 34.491 & 21.523 & 39.571 & ... & 0 & 0 & 1 & 0 & 1 & 0 & 1 & 0 & 1 & 0\\\\\n",
       "\t2 & high & 49 &  TRUE &  72.6 & 122.18 & 6.431 & 11.349 & 18.745 & 12.261 & 21.285 & ... & 0 & 0 & 0 & 0 & 0 & 0 & 0 & 0 & 0 & 0\\\\\n",
       "\t3 & high & 56 &  TRUE & 259.0 & 242.29 & 7.572 & 20.832 & 32.167 & 21.693 & 35.535 & ... & 0 & 0 & 1 & 0 & 1 & 1 & 1 & 0 & 1 & 1\\\\\n",
       "\t4 & high &  7 & FALSE &  56.6 &  88.12 & 6.294 &  7.537 & 14.189 &  7.955 & 16.080 & ... & 0 & 0 & 0 & 0 & 0 & 0 & 0 & 0 & 0 & 0\\\\\n",
       "\t5 & low  & 51 & FALSE &  84.7 & 136.21 & 6.191 & 12.876 & 21.629 & 14.023 & 24.701 & ... & 0 & 0 & 0 & 0 & 0 & 0 & 0 & 0 & 0 & 0\\\\\n",
       "\t6 & high & 21 & FALSE & 160.0 & 192.28 & 6.409 & 17.644 & 29.723 & 19.000 & 33.740 & ... & 0 & 0 & 0 & 0 & 1 & 0 & 1 & 0 & 1 & 0\\\\\n",
       "\\end{tabular}\n"
      ],
      "text/markdown": [
       "\n",
       "A data.frame: 6 × 4872\n",
       "\n",
       "| <!--/--> | Intensity &lt;fct&gt; | VALENCE.PLEASANTNESS &lt;int&gt; | SWEETORSOUR &lt;lgl&gt; | complexity.from.pubmed &lt;dbl&gt; | MW &lt;dbl&gt; | AMW &lt;dbl&gt; | Sv &lt;dbl&gt; | Se &lt;dbl&gt; | Sp &lt;dbl&gt; | Si &lt;dbl&gt; | ... ... | Psychotic.80 &lt;int&gt; | Psychotic.50 &lt;int&gt; | Hypertens.80 &lt;int&gt; | Hypertens.50 &lt;int&gt; | Hypnotic.80 &lt;int&gt; | Hypnotic.50 &lt;int&gt; | Neoplastic.80 &lt;int&gt; | Neoplastic.50 &lt;int&gt; | Infective.80 &lt;int&gt; | Infective.50 &lt;int&gt; |\n",
       "|---|---|---|---|---|---|---|---|---|---|---|---|---|---|---|---|---|---|---|---|---|---|\n",
       "| 1 | low  | 45 | FALSE | 302.0 | 208.33 | 5.952 | 19.698 | 34.491 | 21.523 | 39.571 | ... | 0 | 0 | 1 | 0 | 1 | 0 | 1 | 0 | 1 | 0 |\n",
       "| 2 | high | 49 |  TRUE |  72.6 | 122.18 | 6.431 | 11.349 | 18.745 | 12.261 | 21.285 | ... | 0 | 0 | 0 | 0 | 0 | 0 | 0 | 0 | 0 | 0 |\n",
       "| 3 | high | 56 |  TRUE | 259.0 | 242.29 | 7.572 | 20.832 | 32.167 | 21.693 | 35.535 | ... | 0 | 0 | 1 | 0 | 1 | 1 | 1 | 0 | 1 | 1 |\n",
       "| 4 | high |  7 | FALSE |  56.6 |  88.12 | 6.294 |  7.537 | 14.189 |  7.955 | 16.080 | ... | 0 | 0 | 0 | 0 | 0 | 0 | 0 | 0 | 0 | 0 |\n",
       "| 5 | low  | 51 | FALSE |  84.7 | 136.21 | 6.191 | 12.876 | 21.629 | 14.023 | 24.701 | ... | 0 | 0 | 0 | 0 | 0 | 0 | 0 | 0 | 0 | 0 |\n",
       "| 6 | high | 21 | FALSE | 160.0 | 192.28 | 6.409 | 17.644 | 29.723 | 19.000 | 33.740 | ... | 0 | 0 | 0 | 0 | 1 | 0 | 1 | 0 | 1 | 0 |\n",
       "\n"
      ],
      "text/plain": [
       "  Intensity VALENCE.PLEASANTNESS SWEETORSOUR complexity.from.pubmed MW    \n",
       "1 low       45                   FALSE       302.0                  208.33\n",
       "2 high      49                    TRUE        72.6                  122.18\n",
       "3 high      56                    TRUE       259.0                  242.29\n",
       "4 high       7                   FALSE        56.6                   88.12\n",
       "5 low       51                   FALSE        84.7                  136.21\n",
       "6 high      21                   FALSE       160.0                  192.28\n",
       "  AMW   Sv     Se     Sp     Si     ... Psychotic.80 Psychotic.50 Hypertens.80\n",
       "1 5.952 19.698 34.491 21.523 39.571 ... 0            0            1           \n",
       "2 6.431 11.349 18.745 12.261 21.285 ... 0            0            0           \n",
       "3 7.572 20.832 32.167 21.693 35.535 ... 0            0            1           \n",
       "4 6.294  7.537 14.189  7.955 16.080 ... 0            0            0           \n",
       "5 6.191 12.876 21.629 14.023 24.701 ... 0            0            0           \n",
       "6 6.409 17.644 29.723 19.000 33.740 ... 0            0            0           \n",
       "  Hypertens.50 Hypnotic.80 Hypnotic.50 Neoplastic.80 Neoplastic.50 Infective.80\n",
       "1 0            1           0           1             0             1           \n",
       "2 0            0           0           0             0             0           \n",
       "3 0            1           1           1             0             1           \n",
       "4 0            0           0           0             0             0           \n",
       "5 0            0           0           0             0             0           \n",
       "6 0            1           0           1             0             1           \n",
       "  Infective.50\n",
       "1 0           \n",
       "2 0           \n",
       "3 1           \n",
       "4 0           \n",
       "5 0           \n",
       "6 0           "
      ]
     },
     "metadata": {},
     "output_type": "display_data"
    },
    {
     "data": {
      "text/html": [
       "0"
      ],
      "text/latex": [
       "0"
      ],
      "text/markdown": [
       "0"
      ],
      "text/plain": [
       "[1] 0"
      ]
     },
     "metadata": {},
     "output_type": "display_data"
    },
    {
     "data": {
      "text/html": [
       "98"
      ],
      "text/latex": [
       "98"
      ],
      "text/markdown": [
       "98"
      ],
      "text/plain": [
       "[1] 98"
      ]
     },
     "metadata": {},
     "output_type": "display_data"
    }
   ],
   "source": [
    "#First look\n",
    "head(train.data)\n",
    "#Maximum and Minimum value of output variable\n",
    "max <- which.max(train.data$VALENCE.PLEASANTNESS)\n",
    "min <- which.min(train.data$VALENCE.PLEASANTNESS)\n",
    "train.data$VALENCE.PLEASANTNESS[min]\n",
    "train.data$VALENCE.PLEASANTNESS[max]"
   ]
  },
  {
   "cell_type": "markdown",
   "metadata": {},
   "source": [
    "**Output variable (dependent variable): VALENCE.PLEASANTNESS**\n",
    "- min. value (in the training set) = 0\n",
    "- max. value (in the training set) = 98\n",
    "\n",
    "**Input variables (predictors):**\n",
    "- 4870 different predictors\n",
    "- Intensity is a categorical variable with the levels low and high\n",
    "\n",
    "**SWEETORSOUR:**\n",
    "- output variable for the second task\n",
    "- not included in the test set\n",
    "- not usable for the regression task"
   ]
  },
  {
   "cell_type": "markdown",
   "metadata": {},
   "source": [
    "## Variance"
   ]
  },
  {
   "cell_type": "code",
   "execution_count": 143,
   "metadata": {},
   "outputs": [],
   "source": [
    "#convert the variable intensity into 2=low and 1=high (so that we can apply variance and correlation)\n",
    "numeric.intensity <- as.numeric(train.data$Intensity)\n"
   ]
  },
  {
   "cell_type": "code",
   "execution_count": 148,
   "metadata": {},
   "outputs": [],
   "source": [
    "#searching for input variables with zero variance (without the varible Intensity)\n",
    "y <- train.data$VALENCE.PLEASANTNESS\n",
    "x <- train.data[, -c(2,3)]\n",
    "x$Intensity <- numeric.intensity\n",
    "idx.zero.var <- apply(x, 2, var) == 0 \n",
    "x <- x[,!idx.zero.var]\n"
   ]
  },
  {
   "cell_type": "markdown",
   "metadata": {},
   "source": [
    "Thereby we could reduce the number of predictors from 4871 to 3028"
   ]
  },
  {
   "cell_type": "markdown",
   "metadata": {},
   "source": [
    "## First linear Regression with Lasso Regularization and K-Fold Cross Validation"
   ]
  },
  {
   "cell_type": "code",
   "execution_count": 158,
   "metadata": {},
   "outputs": [
    {
     "data": {
      "image/png": "[encoded data removed]",
      "text/plain": [
       "plot without title"
      ]
     },
     "metadata": {
      "image/png": {
       "height": 420,
       "width": 420
      }
     },
     "output_type": "display_data"
    }
   ],
   "source": [
    "library(glmnet)\n",
    "\n",
    "#split the training data in a training set and a validation set\n",
    "len <- length(x[,1])\n",
    "idx.train <- sample(1:len, 2*len/3)\n",
    "train.x <- as.matrix(x[idx.train,])\n",
    "train.y <- as.matrix(y[idx.train])\n",
    "val.x <- as.matrix(x[-idx.train,])\n",
    "val.y <- as.matrix(y[-idx.train])\n",
    "\n",
    "#Lasso model\n",
    "lasso.mod <- glmnet(train.x,train.y, alpha = 1, lambda = 10^seq(1, -2, length = 150))\n",
    "plot(lasso.mod, \"lambda\", xlab = parse(text = \"Log(lambda)\"))"
   ]
  },
  {
   "cell_type": "code",
   "execution_count": 159,
   "metadata": {},
   "outputs": [
    {
     "data": {
      "image/png": "[encoded data removed]",
      "text/plain": [
       "plot without title"
      ]
     },
     "metadata": {
      "image/png": {
       "height": 420,
       "width": 420
      }
     },
     "output_type": "display_data"
    }
   ],
   "source": [
    "#5-fold cross-validation to find the optimal value for the parameter lambda\n",
    "cv.lasso <- cv.glmnet(train.x, train.y, alpha = 1, nfold = 5)\n",
    "plot(cv.lasso)"
   ]
  },
  {
   "cell_type": "markdown",
   "metadata": {},
   "source": [
    "One can see that it is clearly better to not include all variables for a linear regression (as expected).  "
   ]
  },
  {
   "cell_type": "code",
   "execution_count": 162,
   "metadata": {},
   "outputs": [
    {
     "data": {
      "text/html": [
       "465.739884395234"
      ],
      "text/latex": [
       "465.739884395234"
      ],
      "text/markdown": [
       "465.739884395234"
      ],
      "text/plain": [
       "[1] 465.7399"
      ]
     },
     "metadata": {},
     "output_type": "display_data"
    }
   ],
   "source": [
    "#best prediction \n",
    "best.lasso <- glmnet(train.x, train.y, alpha = 1, lambda = cv.lasso$lambda.min)\n",
    "pred <- predict(best.lasso, s = cv.lasso$lambda.min, newx = as.matrix(val.x))\n",
    "\n",
    "#MSE with best lasso prediction \n",
    "mean((pred - val.y)^2)"
   ]
  },
  {
   "cell_type": "markdown",
   "metadata": {},
   "source": [
    "## Correlation"
   ]
  },
  {
   "cell_type": "code",
   "execution_count": 187,
   "metadata": {},
   "outputs": [
    {
     "data": {
      "text/html": [
       "0"
      ],
      "text/latex": [
       "0"
      ],
      "text/markdown": [
       "0"
      ],
      "text/plain": [
       "[1] 0"
      ]
     },
     "metadata": {},
     "output_type": "display_data"
    }
   ],
   "source": [
    "library(corrplot)\n",
    "library(caret)\n",
    "library(corrplot)\n",
    "library(plyr)\n",
    "\n",
    "#searching for variables with correlation = 1\n",
    "corrData = scale(x, center=TRUE, scale = TRUE)  # normalize the data frame. This will also convert to a matrix. \n",
    "corrMatrix <- cor(x) # Access the correlation matrix (Pearson's coefficients)\n",
    "\n",
    "highlyCorrelated <- findCorrelation(corrMatrix, cutoff = 1)  # removes all indices of features which have a correltion of 0.99 or above\n",
    "length(highlyCorrelated)"
   ]
  },
  {
   "cell_type": "markdown",
   "metadata": {},
   "source": [
    "There are zero variables which have a correlation index of 1. Hence no variables are completly correlated to each other. We can try to reduce the predictors with 0.95 correlation (or higher) and see if the linear Regression with Lasso Regularization and K-Fold Cross Validation gives us a smaller validation MSE."
   ]
  },
  {
   "cell_type": "code",
   "execution_count": 237,
   "metadata": {},
   "outputs": [],
   "source": [
    "#searching for variables with correlation = 0.95\n",
    "corrData = scale(x, center=TRUE, scale = TRUE)  # normalize the data frame. This will also convert to a matrix. \n",
    "corrMatrix <- cor(x) # Access the correlation matrix (Pearson's coefficients)\n",
    "highlyCorrelated <- findCorrelation(corrMatrix, cutoff = 0.95)  # removes all indices of features which have a correlation of 0.95 or above\n",
    "highlyCorrCol <- colnames(x)[highlyCorrelated]\n",
    "corr.x <- x[, -which(colnames(x) %in% highlyCorrCol)]  #Data frame with only uncorrelated data"
   ]
  },
  {
   "cell_type": "code",
   "execution_count": 238,
   "metadata": {},
   "outputs": [
    {
     "data": {
      "image/png": "[encoded data removed]",
      "text/plain": [
       "plot without title"
      ]
     },
     "metadata": {
      "image/png": {
       "height": 420,
       "width": 420
      }
     },
     "output_type": "display_data"
    },
    {
     "data": {
      "image/png": "[encoded data removed]",
      "text/plain": [
       "plot without title"
      ]
     },
     "metadata": {
      "image/png": {
       "height": 420,
       "width": 420
      }
     },
     "output_type": "display_data"
    }
   ],
   "source": [
    "#split the training data in a training set and a validation set (one time with all predictors (var != 0), one time without to high correlated predictors\n",
    "\n",
    "len <- length(x[,1])\n",
    "idx.train <- sample(1:len, 2*len/3)\n",
    "\n",
    "train.x <- as.matrix(x[idx.train,])\n",
    "train.y <- as.matrix(y[idx.train])\n",
    "val.x <- as.matrix(x[-idx.train,])\n",
    "val.y <- as.matrix(y[-idx.train])\n",
    "\n",
    "corr.train.x <- as.matrix(corr.x[idx.train,])\n",
    "corr.train.y <- as.matrix(y[idx.train])\n",
    "corr.val.x <- as.matrix(corr.x[-idx.train,])\n",
    "corr.val.y <- as.matrix(y[-idx.train])\n",
    "\n",
    "#Lasso model\n",
    "lasso.mod <- glmnet(train.x,train.y, alpha = 1, lambda = 10^seq(1, -2, length = 150))\n",
    "plot(lasso.mod, \"lambda\", xlab = parse(text = \"Log(lambda)\"))\n",
    "\n",
    "corr.lasso.mod <- glmnet(corr.train.x,corr.train.y, alpha = 1, lambda = 10^seq(1, -2, length = 150))\n",
    "plot(corr.lasso.mod, \"lambda\", xlab = parse(text = \"Log(lambda)\"))"
   ]
  },
  {
   "cell_type": "code",
   "execution_count": 239,
   "metadata": {},
   "outputs": [
    {
     "data": {
      "image/png": "[encoded data removed]",
      "text/plain": [
       "plot without title"
      ]
     },
     "metadata": {
      "image/png": {
       "height": 420,
       "width": 420
      }
     },
     "output_type": "display_data"
    },
    {
     "data": {
      "image/png": "[encoded data removed]",
      "text/plain": [
       "plot without title"
      ]
     },
     "metadata": {
      "image/png": {
       "height": 420,
       "width": 420
      }
     },
     "output_type": "display_data"
    }
   ],
   "source": [
    "#5-fold cross-validation to find the optimal value for the parameter lambda\n",
    "cv.lasso <- cv.glmnet(train.x, train.y, alpha = 1, nfold = 5)\n",
    "plot(cv.lasso)\n",
    "\n",
    "corr.cv.lasso <- cv.glmnet(corr.train.x, corr.train.y, alpha = 1, nfold = 5)\n",
    "plot(corr.cv.lasso)"
   ]
  },
  {
   "cell_type": "code",
   "execution_count": 240,
   "metadata": {},
   "outputs": [
    {
     "data": {
      "text/html": [
       "485.195178379699"
      ],
      "text/latex": [
       "485.195178379699"
      ],
      "text/markdown": [
       "485.195178379699"
      ],
      "text/plain": [
       "[1] 485.1952"
      ]
     },
     "metadata": {},
     "output_type": "display_data"
    },
    {
     "data": {
      "text/html": [
       "479.868126632397"
      ],
      "text/latex": [
       "479.868126632397"
      ],
      "text/markdown": [
       "479.868126632397"
      ],
      "text/plain": [
       "[1] 479.8681"
      ]
     },
     "metadata": {},
     "output_type": "display_data"
    }
   ],
   "source": [
    "#best prediction \n",
    "best.lasso <- glmnet(train.x, train.y, alpha = 1, lambda = cv.lasso$lambda.min)\n",
    "pred <- predict(best.lasso, s = cv.lasso$lambda.min, newx = as.matrix(val.x))\n",
    "\n",
    "corr.best.lasso <- glmnet(corr.train.x, corr.train.y, alpha = 1, lambda = corr.cv.lasso$lambda.min)\n",
    "corr.pred <- predict(corr.best.lasso, s = corr.cv.lasso$lambda.min, newx = as.matrix(corr.val.x))\n",
    "\n",
    "#MSE with best lasso prediction \n",
    "mean((pred - val.y)^2)\n",
    "mean((corr.pred - corr.val.y)^2)"
   ]
  },
  {
   "cell_type": "markdown",
   "metadata": {},
   "source": [
    "Since the MSE does not diminish significantly we conserve all 3028 predictors for the further analyse.\n",
    "\n",
    "Additionally, we can see that the MSE is around 450-520. "
   ]
  },
  {
   "cell_type": "markdown",
   "metadata": {},
   "source": [
    "## Forward Selection with Cross-Validation"
   ]
  },
  {
   "cell_type": "code",
   "execution_count": 255,
   "metadata": {},
   "outputs": [
    {
     "name": "stderr",
     "output_type": "stream",
     "text": [
      "Warning message in leaps.setup(x, y, wt = wt, nbest = nbest, nvmax = nvmax, force.in = force.in, :\n",
      "\"2710  linear dependencies found\"\n"
     ]
    },
    {
     "name": "stdout",
     "output_type": "stream",
     "text": [
      "Reordering variables and trying again:\n"
     ]
    },
    {
     "name": "stderr",
     "output_type": "stream",
     "text": [
      "Warning message in leaps.setup(x, y, wt = wt, nbest = nbest, nvmax = nvmax, force.in = force.in, :\n",
      "\"2714  linear dependencies found\"\n"
     ]
    },
    {
     "name": "stdout",
     "output_type": "stream",
     "text": [
      "Reordering variables and trying again:\n"
     ]
    },
    {
     "name": "stderr",
     "output_type": "stream",
     "text": [
      "Warning message in leaps.setup(x, y, wt = wt, nbest = nbest, nvmax = nvmax, force.in = force.in, :\n",
      "\"2708  linear dependencies found\"\n"
     ]
    },
    {
     "name": "stdout",
     "output_type": "stream",
     "text": [
      "Reordering variables and trying again:\n"
     ]
    },
    {
     "name": "stderr",
     "output_type": "stream",
     "text": [
      "Warning message in leaps.setup(x, y, wt = wt, nbest = nbest, nvmax = nvmax, force.in = force.in, :\n",
      "\"2710  linear dependencies found\"\n"
     ]
    },
    {
     "name": "stdout",
     "output_type": "stream",
     "text": [
      "Reordering variables and trying again:\n"
     ]
    },
    {
     "name": "stderr",
     "output_type": "stream",
     "text": [
      "Warning message in leaps.setup(x, y, wt = wt, nbest = nbest, nvmax = nvmax, force.in = force.in, :\n",
      "\"2708  linear dependencies found\"\n"
     ]
    },
    {
     "name": "stdout",
     "output_type": "stream",
     "text": [
      "Reordering variables and trying again:\n"
     ]
    }
   ],
   "source": [
    "library(tidymodels)\n",
    "library(leaps)\n",
    "\n",
    "#functions \n",
    "predict.regsubsets <- function(object, newdata, id, form = as.formula(object$call[[2]])) {\n",
    "    mat = model.matrix(form, newdata)\n",
    "    coefi = coef(object, id=id)\n",
    "    xvars = names(coefi)\n",
    "    mat[,xvars]%*%coefi\n",
    "}\n",
    "\n",
    "\n",
    "evaluate <- function(fold, fit, formula = VALENCE.PLEASANTNESS ~ .) {\n",
    "    valid.set <- assessment(fold)\n",
    "    sapply(seq(1, fit$nvmax - 1),\n",
    "           function(id) mean((valid.set$VALENCE.PLEASANTNESS - predict(fit, valid.set, id, formula))^2))\n",
    "}\n",
    "\n",
    "fit_and_evaluate <- function(fold, formula = VALENCE.PLEASANTNESS ~ .) {\n",
    "    fit <- regsubsets(formula, analysis(fold), method = \"forward\", nvmax = 60)\n",
    "    evaluate(fold, fit)\n",
    "}\n",
    "\n",
    "#data\n",
    "full.data <- x\n",
    "full.data$VALENCE.PLEASANTNESS <- y\n",
    "validation.data <- vfold_cv(full.data, v = 5)           \n",
    "           \n",
    "cv.errors <- sapply(validation.data$splits, fit_and_evaluate)\n",
    "mean.cv.errors <- rowMeans(cv.errors)"
   ]
  },
  {
   "cell_type": "code",
   "execution_count": 256,
   "metadata": {},
   "outputs": [
    {
     "data": {
      "image/png": "[encoded data removed]",
      "text/plain": [
       "plot without title"
      ]
     },
     "metadata": {
      "image/png": {
       "height": 420,
       "width": 420
      }
     },
     "output_type": "display_data"
    }
   ],
   "source": [
    "#plot the obtained data\n",
    "plot(mean.cv.errors, type = \"l\", ylim = c(400, 600), xlab = \"Number of Variables\", ylab = \"5-fold CV\")\n",
    "cv.min <- which.min(mean.cv.errors)\n",
    "points(cv.min, mean.cv.errors[cv.min], col = \"red\", cex = 2, pch = 20)\n",
    "abline(sd(full.data$VALENCE.PLEASANTNESS), 0, lty = \"dashed\")"
   ]
  },
  {
   "cell_type": "markdown",
   "metadata": {},
   "source": [
    "We can see that the best predictions are obtained with a small number of variables. "
   ]
  },
  {
   "cell_type": "code",
   "execution_count": null,
   "metadata": {},
   "outputs": [],
   "source": []
  }
 ],
 "metadata": {
  "kernelspec": {
   "display_name": "R",
   "language": "R",
   "name": "ir"
  },
  "language_info": {
   "codemirror_mode": "r",
   "file_extension": ".r",
   "mimetype": "text/x-r-source",
   "name": "R",
   "pygments_lexer": "r",
   "version": "3.6.3"
  }
 },
 "nbformat": 4,
 "nbformat_minor": 4
}
