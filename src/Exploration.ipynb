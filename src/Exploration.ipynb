{
 "cells": [
  {
   "cell_type": "markdown",
   "metadata": {},
   "source": [
    "## Exploration of the data"
   ]
  },
  {
   "cell_type": "markdown",
   "metadata": {},
   "source": [
    "In this notebook, we explore the raw data. We perform some vizualisation techniques (PCA, t-Sne), we look at raw data and try to understand the different variables (predictors and response variable). Then, we look at the correlations between independent variables and perform a first multiple linear regression. "
   ]
  },
  {
   "cell_type": "code",
   "execution_count": 1,
   "metadata": {},
   "outputs": [
    {
     "data": {
      "text/html": [
       "'R version 3.6.1 (2019-07-05)'"
      ],
      "text/latex": [
       "'R version 3.6.1 (2019-07-05)'"
      ],
      "text/markdown": [
       "'R version 3.6.1 (2019-07-05)'"
      ],
      "text/plain": [
       "[1] \"R version 3.6.1 (2019-07-05)\""
      ]
     },
     "metadata": {},
     "output_type": "display_data"
    }
   ],
   "source": [
    "R.version.string"
   ]
  },
  {
   "cell_type": "code",
   "execution_count": 1,
   "metadata": {},
   "outputs": [],
   "source": [
    "train.data <- read.csv(file.path(\"..\", \"data\", \"training_data.csv\"))\n",
    "test.data <- read.csv(file.path(\"..\", \"data\", \"test_data.csv\"))"
   ]
  },
  {
   "cell_type": "markdown",
   "metadata": {},
   "source": [
    "## First look"
   ]
  },
  {
   "cell_type": "code",
   "execution_count": 2,
   "metadata": {},
   "outputs": [
    {
     "data": {
      "text/html": [
       "<table>\n",
       "<caption>A data.frame: 6 × 4872</caption>\n",
       "<thead>\n",
       "\t<tr><th></th><th scope=col>Intensity</th><th scope=col>VALENCE.PLEASANTNESS</th><th scope=col>SWEETORSOUR</th><th scope=col>complexity.from.pubmed</th><th scope=col>MW</th><th scope=col>AMW</th><th scope=col>Sv</th><th scope=col>Se</th><th scope=col>Sp</th><th scope=col>Si</th><th scope=col>...</th><th scope=col>Psychotic.80</th><th scope=col>Psychotic.50</th><th scope=col>Hypertens.80</th><th scope=col>Hypertens.50</th><th scope=col>Hypnotic.80</th><th scope=col>Hypnotic.50</th><th scope=col>Neoplastic.80</th><th scope=col>Neoplastic.50</th><th scope=col>Infective.80</th><th scope=col>Infective.50</th></tr>\n",
       "\t<tr><th></th><th scope=col>&lt;fct&gt;</th><th scope=col>&lt;int&gt;</th><th scope=col>&lt;lgl&gt;</th><th scope=col>&lt;dbl&gt;</th><th scope=col>&lt;dbl&gt;</th><th scope=col>&lt;dbl&gt;</th><th scope=col>&lt;dbl&gt;</th><th scope=col>&lt;dbl&gt;</th><th scope=col>&lt;dbl&gt;</th><th scope=col>&lt;dbl&gt;</th><th scope=col>...</th><th scope=col>&lt;int&gt;</th><th scope=col>&lt;int&gt;</th><th scope=col>&lt;int&gt;</th><th scope=col>&lt;int&gt;</th><th scope=col>&lt;int&gt;</th><th scope=col>&lt;int&gt;</th><th scope=col>&lt;int&gt;</th><th scope=col>&lt;int&gt;</th><th scope=col>&lt;int&gt;</th><th scope=col>&lt;int&gt;</th></tr>\n",
       "</thead>\n",
       "<tbody>\n",
       "\t<tr><th scope=row>1</th><td>low </td><td>45</td><td>FALSE</td><td>302.0</td><td>208.33</td><td>5.952</td><td>19.698</td><td>34.491</td><td>21.523</td><td>39.571</td><td>...</td><td>0</td><td>0</td><td>1</td><td>0</td><td>1</td><td>0</td><td>1</td><td>0</td><td>1</td><td>0</td></tr>\n",
       "\t<tr><th scope=row>2</th><td>high</td><td>49</td><td> TRUE</td><td> 72.6</td><td>122.18</td><td>6.431</td><td>11.349</td><td>18.745</td><td>12.261</td><td>21.285</td><td>...</td><td>0</td><td>0</td><td>0</td><td>0</td><td>0</td><td>0</td><td>0</td><td>0</td><td>0</td><td>0</td></tr>\n",
       "\t<tr><th scope=row>3</th><td>high</td><td>56</td><td> TRUE</td><td>259.0</td><td>242.29</td><td>7.572</td><td>20.832</td><td>32.167</td><td>21.693</td><td>35.535</td><td>...</td><td>0</td><td>0</td><td>1</td><td>0</td><td>1</td><td>1</td><td>1</td><td>0</td><td>1</td><td>1</td></tr>\n",
       "\t<tr><th scope=row>4</th><td>high</td><td> 7</td><td>FALSE</td><td> 56.6</td><td> 88.12</td><td>6.294</td><td> 7.537</td><td>14.189</td><td> 7.955</td><td>16.080</td><td>...</td><td>0</td><td>0</td><td>0</td><td>0</td><td>0</td><td>0</td><td>0</td><td>0</td><td>0</td><td>0</td></tr>\n",
       "\t<tr><th scope=row>5</th><td>low </td><td>51</td><td>FALSE</td><td> 84.7</td><td>136.21</td><td>6.191</td><td>12.876</td><td>21.629</td><td>14.023</td><td>24.701</td><td>...</td><td>0</td><td>0</td><td>0</td><td>0</td><td>0</td><td>0</td><td>0</td><td>0</td><td>0</td><td>0</td></tr>\n",
       "\t<tr><th scope=row>6</th><td>high</td><td>21</td><td>FALSE</td><td>160.0</td><td>192.28</td><td>6.409</td><td>17.644</td><td>29.723</td><td>19.000</td><td>33.740</td><td>...</td><td>0</td><td>0</td><td>0</td><td>0</td><td>1</td><td>0</td><td>1</td><td>0</td><td>1</td><td>0</td></tr>\n",
       "</tbody>\n",
       "</table>\n"
      ],
      "text/latex": [
       "A data.frame: 6 × 4872\n",
       "\\begin{tabular}{r|lllllllllllllllllllll}\n",
       "  & Intensity & VALENCE.PLEASANTNESS & SWEETORSOUR & complexity.from.pubmed & MW & AMW & Sv & Se & Sp & Si & ... & Psychotic.80 & Psychotic.50 & Hypertens.80 & Hypertens.50 & Hypnotic.80 & Hypnotic.50 & Neoplastic.80 & Neoplastic.50 & Infective.80 & Infective.50\\\\\n",
       "  & <fct> & <int> & <lgl> & <dbl> & <dbl> & <dbl> & <dbl> & <dbl> & <dbl> & <dbl> & ... & <int> & <int> & <int> & <int> & <int> & <int> & <int> & <int> & <int> & <int>\\\\\n",
       "\\hline\n",
       "\t1 & low  & 45 & FALSE & 302.0 & 208.33 & 5.952 & 19.698 & 34.491 & 21.523 & 39.571 & ... & 0 & 0 & 1 & 0 & 1 & 0 & 1 & 0 & 1 & 0\\\\\n",
       "\t2 & high & 49 &  TRUE &  72.6 & 122.18 & 6.431 & 11.349 & 18.745 & 12.261 & 21.285 & ... & 0 & 0 & 0 & 0 & 0 & 0 & 0 & 0 & 0 & 0\\\\\n",
       "\t3 & high & 56 &  TRUE & 259.0 & 242.29 & 7.572 & 20.832 & 32.167 & 21.693 & 35.535 & ... & 0 & 0 & 1 & 0 & 1 & 1 & 1 & 0 & 1 & 1\\\\\n",
       "\t4 & high &  7 & FALSE &  56.6 &  88.12 & 6.294 &  7.537 & 14.189 &  7.955 & 16.080 & ... & 0 & 0 & 0 & 0 & 0 & 0 & 0 & 0 & 0 & 0\\\\\n",
       "\t5 & low  & 51 & FALSE &  84.7 & 136.21 & 6.191 & 12.876 & 21.629 & 14.023 & 24.701 & ... & 0 & 0 & 0 & 0 & 0 & 0 & 0 & 0 & 0 & 0\\\\\n",
       "\t6 & high & 21 & FALSE & 160.0 & 192.28 & 6.409 & 17.644 & 29.723 & 19.000 & 33.740 & ... & 0 & 0 & 0 & 0 & 1 & 0 & 1 & 0 & 1 & 0\\\\\n",
       "\\end{tabular}\n"
      ],
      "text/markdown": [
       "\n",
       "A data.frame: 6 × 4872\n",
       "\n",
       "| <!--/--> | Intensity &lt;fct&gt; | VALENCE.PLEASANTNESS &lt;int&gt; | SWEETORSOUR &lt;lgl&gt; | complexity.from.pubmed &lt;dbl&gt; | MW &lt;dbl&gt; | AMW &lt;dbl&gt; | Sv &lt;dbl&gt; | Se &lt;dbl&gt; | Sp &lt;dbl&gt; | Si &lt;dbl&gt; | ... ... | Psychotic.80 &lt;int&gt; | Psychotic.50 &lt;int&gt; | Hypertens.80 &lt;int&gt; | Hypertens.50 &lt;int&gt; | Hypnotic.80 &lt;int&gt; | Hypnotic.50 &lt;int&gt; | Neoplastic.80 &lt;int&gt; | Neoplastic.50 &lt;int&gt; | Infective.80 &lt;int&gt; | Infective.50 &lt;int&gt; |\n",
       "|---|---|---|---|---|---|---|---|---|---|---|---|---|---|---|---|---|---|---|---|---|---|\n",
       "| 1 | low  | 45 | FALSE | 302.0 | 208.33 | 5.952 | 19.698 | 34.491 | 21.523 | 39.571 | ... | 0 | 0 | 1 | 0 | 1 | 0 | 1 | 0 | 1 | 0 |\n",
       "| 2 | high | 49 |  TRUE |  72.6 | 122.18 | 6.431 | 11.349 | 18.745 | 12.261 | 21.285 | ... | 0 | 0 | 0 | 0 | 0 | 0 | 0 | 0 | 0 | 0 |\n",
       "| 3 | high | 56 |  TRUE | 259.0 | 242.29 | 7.572 | 20.832 | 32.167 | 21.693 | 35.535 | ... | 0 | 0 | 1 | 0 | 1 | 1 | 1 | 0 | 1 | 1 |\n",
       "| 4 | high |  7 | FALSE |  56.6 |  88.12 | 6.294 |  7.537 | 14.189 |  7.955 | 16.080 | ... | 0 | 0 | 0 | 0 | 0 | 0 | 0 | 0 | 0 | 0 |\n",
       "| 5 | low  | 51 | FALSE |  84.7 | 136.21 | 6.191 | 12.876 | 21.629 | 14.023 | 24.701 | ... | 0 | 0 | 0 | 0 | 0 | 0 | 0 | 0 | 0 | 0 |\n",
       "| 6 | high | 21 | FALSE | 160.0 | 192.28 | 6.409 | 17.644 | 29.723 | 19.000 | 33.740 | ... | 0 | 0 | 0 | 0 | 1 | 0 | 1 | 0 | 1 | 0 |\n",
       "\n"
      ],
      "text/plain": [
       "  Intensity VALENCE.PLEASANTNESS SWEETORSOUR complexity.from.pubmed MW    \n",
       "1 low       45                   FALSE       302.0                  208.33\n",
       "2 high      49                    TRUE        72.6                  122.18\n",
       "3 high      56                    TRUE       259.0                  242.29\n",
       "4 high       7                   FALSE        56.6                   88.12\n",
       "5 low       51                   FALSE        84.7                  136.21\n",
       "6 high      21                   FALSE       160.0                  192.28\n",
       "  AMW   Sv     Se     Sp     Si     ... Psychotic.80 Psychotic.50 Hypertens.80\n",
       "1 5.952 19.698 34.491 21.523 39.571 ... 0            0            1           \n",
       "2 6.431 11.349 18.745 12.261 21.285 ... 0            0            0           \n",
       "3 7.572 20.832 32.167 21.693 35.535 ... 0            0            1           \n",
       "4 6.294  7.537 14.189  7.955 16.080 ... 0            0            0           \n",
       "5 6.191 12.876 21.629 14.023 24.701 ... 0            0            0           \n",
       "6 6.409 17.644 29.723 19.000 33.740 ... 0            0            0           \n",
       "  Hypertens.50 Hypnotic.80 Hypnotic.50 Neoplastic.80 Neoplastic.50 Infective.80\n",
       "1 0            1           0           1             0             1           \n",
       "2 0            0           0           0             0             0           \n",
       "3 0            1           1           1             0             1           \n",
       "4 0            0           0           0             0             0           \n",
       "5 0            0           0           0             0             0           \n",
       "6 0            1           0           1             0             1           \n",
       "  Infective.50\n",
       "1 0           \n",
       "2 0           \n",
       "3 1           \n",
       "4 0           \n",
       "5 0           \n",
       "6 0           "
      ]
     },
     "metadata": {},
     "output_type": "display_data"
    },
    {
     "data": {
      "text/html": [
       "0"
      ],
      "text/latex": [
       "0"
      ],
      "text/markdown": [
       "0"
      ],
      "text/plain": [
       "[1] 0"
      ]
     },
     "metadata": {},
     "output_type": "display_data"
    },
    {
     "data": {
      "text/html": [
       "98"
      ],
      "text/latex": [
       "98"
      ],
      "text/markdown": [
       "98"
      ],
      "text/plain": [
       "[1] 98"
      ]
     },
     "metadata": {},
     "output_type": "display_data"
    },
    {
     "data": {
      "text/html": [
       "<style>\n",
       ".list-inline {list-style: none; margin:0; padding: 0}\n",
       ".list-inline>li {display: inline-block}\n",
       ".list-inline>li:not(:last-child)::after {content: \"\\00b7\"; padding: 0 .5ex}\n",
       "</style>\n",
       "<ol class=list-inline><li>708</li><li>4872</li></ol>\n"
      ],
      "text/latex": [
       "\\begin{enumerate*}\n",
       "\\item 708\n",
       "\\item 4872\n",
       "\\end{enumerate*}\n"
      ],
      "text/markdown": [
       "1. 708\n",
       "2. 4872\n",
       "\n",
       "\n"
      ],
      "text/plain": [
       "[1]  708 4872"
      ]
     },
     "metadata": {},
     "output_type": "display_data"
    }
   ],
   "source": [
    "#First look\n",
    "head(train.data)\n",
    "#Maximum and Minimum value of output variable\n",
    "max <- which.max(train.data$VALENCE.PLEASANTNESS)\n",
    "min <- which.min(train.data$VALENCE.PLEASANTNESS)\n",
    "train.data$VALENCE.PLEASANTNESS[min]\n",
    "train.data$VALENCE.PLEASANTNESS[max]\n",
    "#Dimension of data\n",
    "dim(train.data)"
   ]
  },
  {
   "cell_type": "markdown",
   "metadata": {},
   "source": [
    "## Description of response variable and predictors"
   ]
  },
  {
   "cell_type": "code",
   "execution_count": 3,
   "metadata": {},
   "outputs": [
    {
     "name": "stderr",
     "output_type": "stream",
     "text": [
      "Saving 6.67 x 6.67 in image\n",
      "\n"
     ]
    },
    {
     "data": {
      "image/png": "[encoded data removed]",
      "text/plain": [
       "plot without title"
      ]
     },
     "metadata": {
      "image/png": {
       "height": 420,
       "width": 420
      }
     },
     "output_type": "display_data"
    }
   ],
   "source": [
    "library(ggplot2)\n",
    "library(magrittr)\n",
    "\n",
    "\n",
    "train.data %>% ggplot(aes(VALENCE.PLEASANTNESS)) + geom_histogram(binwidth = 10, color = \"lightgrey\")\n",
    "ggsave(\"../Pictures/Response_shape.png\")"
   ]
  },
  {
   "cell_type": "markdown",
   "metadata": {},
   "source": [
    "**Output variable (dependent variable): VALENCE.PLEASANTNESS**\n",
    "- min. value (in the training set) = 0\n",
    "- max. value (in the training set) = 98\n",
    "\n",
    "**Input variables (predictors):**\n",
    "- 4870 different predictors\n",
    "- Intensity is a categorical variable with the levels low and high\n",
    "\n",
    "**SWEETORSOUR:**\n",
    "- output variable for the second task\n",
    "- not included in the test set\n",
    "- not usable for the regression task"
   ]
  },
  {
   "cell_type": "markdown",
   "metadata": {},
   "source": [
    "## Missing Values "
   ]
  },
  {
   "cell_type": "markdown",
   "metadata": {},
   "source": [
    "We will make sure to remove all missing values if there are any"
   ]
  },
  {
   "cell_type": "code",
   "execution_count": 4,
   "metadata": {},
   "outputs": [],
   "source": [
    "train.data = na.omit(train.data)"
   ]
  },
  {
   "cell_type": "markdown",
   "metadata": {},
   "source": [
    "## Variance"
   ]
  },
  {
   "cell_type": "code",
   "execution_count": 11,
   "metadata": {},
   "outputs": [],
   "source": [
    "#convert the variable intensity into 1=low and 0=high (so that we can apply variance and correlation)\n",
    "numeric.intensity <- as.numeric(train.data$Intensity)-1\n"
   ]
  },
  {
   "cell_type": "code",
   "execution_count": 12,
   "metadata": {},
   "outputs": [
    {
     "name": "stdout",
     "output_type": "stream",
     "text": [
      "Thereby we could reduce the number of predictors from 4870  to  3028"
     ]
    }
   ],
   "source": [
    "#searching for input variables with zero variance \n",
    "y <- train.data$VALENCE.PLEASANTNESS\n",
    "x <- train.data[, -c(2,3)]\n",
    "x$Intensity <- numeric.intensity\n",
    "n.before <- dim(x)[2] #numbers of predictors before the reduction\n",
    "idx.zero.var <- apply(x, 2, var) == 0\n",
    "x <- x[,!idx.zero.var]\n",
    "n.after <- dim(x)[2] #numbers of predictors after the reduction\n",
    "\n",
    "cat(\"Thereby we could reduce the number of predictors from\" , n.before , \" to \" , n.after)"
   ]
  },
  {
   "cell_type": "markdown",
   "metadata": {},
   "source": [
    "## Visualization by PCA and tSNE"
   ]
  },
  {
   "cell_type": "code",
   "execution_count": 37,
   "metadata": {},
   "outputs": [],
   "source": [
    "library(dplyr)\n",
    "library(\"ggplot2\")"
   ]
  },
  {
   "cell_type": "code",
   "execution_count": 38,
   "metadata": {},
   "outputs": [
    {
     "name": "stderr",
     "output_type": "stream",
     "text": [
      "Saving 6.67 x 6.67 in image\n",
      "\n"
     ]
    },
    {
     "data": {
      "image/png": "[encoded data removed]",
      "text/plain": [
       "plot without title"
      ]
     },
     "metadata": {
      "image/png": {
       "height": 420,
       "width": 420
      }
     },
     "output_type": "display_data"
    }
   ],
   "source": [
    "#PCA\n",
    "pca <- prcomp(x, scale = T)\n",
    "plot.data <- data.frame(\"PC1\" = pca$x[,1], \"PC2\" = pca$x[,2], \"VALENCE.PLEASANTNESS\" = y)\n",
    "plot.data %>% ggplot(aes(x = PC1, y = PC2, colour = VALENCE.PLEASANTNESS)) + geom_point() + ggtitle(\"Principal Component Analysis\")\n",
    "ggsave(\"../Pictures/PCA.png\")"
   ]
  },
  {
   "cell_type": "code",
   "execution_count": 39,
   "metadata": {},
   "outputs": [
    {
     "data": {
      "image/png": "[encoded data removed]",
      "text/plain": [
       "plot without title"
      ]
     },
     "metadata": {
      "image/png": {
       "height": 420,
       "width": 420
      }
     },
     "output_type": "display_data"
    }
   ],
   "source": [
    "pca.var <- pca$sdev^2\n",
    "pca.vare <- pca.var / sum(pca.var)\n",
    "plot(pca.vare[1:30], xlab = \"Principal Component\", ylab = \"Prop. Variance Explained\", col = \"blue\", type = \"b\")"
   ]
  },
  {
   "cell_type": "code",
   "execution_count": 40,
   "metadata": {},
   "outputs": [
    {
     "data": {
      "image/png": "[encoded data removed]",
      "text/plain": [
       "plot without title"
      ]
     },
     "metadata": {
      "image/png": {
       "height": 420,
       "width": 420
      }
     },
     "output_type": "display_data"
    }
   ],
   "source": [
    "\n",
    "plot(cumsum(pca.vare[1:30]), xlab = \"Principal Component\", ylab = \"Cumulative Prop. Variance Explained\", col = \"blue\", type = \"b\")\n"
   ]
  },
  {
   "cell_type": "code",
   "execution_count": 41,
   "metadata": {},
   "outputs": [
    {
     "name": "stderr",
     "output_type": "stream",
     "text": [
      "Saving 6.67 x 6.67 in image\n",
      "\n"
     ]
    },
    {
     "data": {
      "image/png": "[encoded data removed]",
      "text/plain": [
       "plot without title"
      ]
     },
     "metadata": {
      "image/png": {
       "height": 420,
       "width": 420
      }
     },
     "output_type": "display_data"
    }
   ],
   "source": [
    "#tSNE\n",
    "library(Rtsne)\n",
    "tsne <- Rtsne(x, check_duplicates = FALSE)\n",
    "plot.data <- data.frame(\"tSNE1\" = tsne$Y[,1], \"tSNE2\" = tsne$Y[,2], \"VALENCE.PLEASANTNESS\" = y)\n",
    "plot.data %>% ggplot(aes(x = tSNE1, y = tSNE2, colour = VALENCE.PLEASANTNESS)) + geom_point() + ggtitle(\"t-Distributed Stochastic Neighbor Embedding\")\n",
    "ggsave(\"../Pictures/tSNE.png\")\n",
    "\n"
   ]
  },
  {
   "cell_type": "markdown",
   "metadata": {},
   "source": [
    "We can not see clusters in PCA nor in tSNE, so that these analyses do not help us."
   ]
  },
  {
   "cell_type": "markdown",
   "metadata": {},
   "source": [
    "## First Multiple linear Regression with all predictors"
   ]
  },
  {
   "cell_type": "code",
   "execution_count": 5,
   "metadata": {},
   "outputs": [
    {
     "name": "stderr",
     "output_type": "stream",
     "text": [
      "Warning message in predict.lm(full.linear.fit, train):\n",
      "“prediction from a rank-deficient fit may be misleading”Warning message in predict.lm(full.linear.fit, validation):\n",
      "“prediction from a rank-deficient fit may be misleading”Warning message in predict.lm(full.linear.fit, train):\n",
      "“prediction from a rank-deficient fit may be misleading”Warning message in predict.lm(full.linear.fit, validation):\n",
      "“prediction from a rank-deficient fit may be misleading”Warning message in predict.lm(full.linear.fit, train):\n",
      "“prediction from a rank-deficient fit may be misleading”Warning message in predict.lm(full.linear.fit, validation):\n",
      "“prediction from a rank-deficient fit may be misleading”Warning message in predict.lm(full.linear.fit, train):\n",
      "“prediction from a rank-deficient fit may be misleading”Warning message in predict.lm(full.linear.fit, validation):\n",
      "“prediction from a rank-deficient fit may be misleading”Warning message in predict.lm(full.linear.fit, train):\n",
      "“prediction from a rank-deficient fit may be misleading”Warning message in predict.lm(full.linear.fit, validation):\n",
      "“prediction from a rank-deficient fit may be misleading”Warning message in predict.lm(full.linear.fit, train):\n",
      "“prediction from a rank-deficient fit may be misleading”Warning message in predict.lm(full.linear.fit, validation):\n",
      "“prediction from a rank-deficient fit may be misleading”Warning message in predict.lm(full.linear.fit, train):\n",
      "“prediction from a rank-deficient fit may be misleading”Warning message in predict.lm(full.linear.fit, validation):\n",
      "“prediction from a rank-deficient fit may be misleading”Warning message in predict.lm(full.linear.fit, train):\n",
      "“prediction from a rank-deficient fit may be misleading”Warning message in predict.lm(full.linear.fit, validation):\n",
      "“prediction from a rank-deficient fit may be misleading”Warning message in predict.lm(full.linear.fit, train):\n",
      "“prediction from a rank-deficient fit may be misleading”Warning message in predict.lm(full.linear.fit, validation):\n",
      "“prediction from a rank-deficient fit may be misleading”Warning message in predict.lm(full.linear.fit, train):\n",
      "“prediction from a rank-deficient fit may be misleading”Warning message in predict.lm(full.linear.fit, validation):\n",
      "“prediction from a rank-deficient fit may be misleading”Warning message in predict.lm(full.linear.fit, train):\n",
      "“prediction from a rank-deficient fit may be misleading”Warning message in predict.lm(full.linear.fit, validation):\n",
      "“prediction from a rank-deficient fit may be misleading”Warning message in predict.lm(full.linear.fit, train):\n",
      "“prediction from a rank-deficient fit may be misleading”Warning message in predict.lm(full.linear.fit, validation):\n",
      "“prediction from a rank-deficient fit may be misleading”Warning message in predict.lm(full.linear.fit, train):\n",
      "“prediction from a rank-deficient fit may be misleading”Warning message in predict.lm(full.linear.fit, validation):\n",
      "“prediction from a rank-deficient fit may be misleading”Warning message in predict.lm(full.linear.fit, train):\n",
      "“prediction from a rank-deficient fit may be misleading”Warning message in predict.lm(full.linear.fit, validation):\n",
      "“prediction from a rank-deficient fit may be misleading”Warning message in predict.lm(full.linear.fit, train):\n",
      "“prediction from a rank-deficient fit may be misleading”Warning message in predict.lm(full.linear.fit, validation):\n",
      "“prediction from a rank-deficient fit may be misleading”Warning message in predict.lm(full.linear.fit, train):\n",
      "“prediction from a rank-deficient fit may be misleading”Warning message in predict.lm(full.linear.fit, validation):\n",
      "“prediction from a rank-deficient fit may be misleading”Warning message in predict.lm(full.linear.fit, train):\n",
      "“prediction from a rank-deficient fit may be misleading”Warning message in predict.lm(full.linear.fit, validation):\n",
      "“prediction from a rank-deficient fit may be misleading”Warning message in predict.lm(full.linear.fit, train):\n",
      "“prediction from a rank-deficient fit may be misleading”Warning message in predict.lm(full.linear.fit, validation):\n",
      "“prediction from a rank-deficient fit may be misleading”Warning message in predict.lm(full.linear.fit, train):\n",
      "“prediction from a rank-deficient fit may be misleading”Warning message in predict.lm(full.linear.fit, validation):\n",
      "“prediction from a rank-deficient fit may be misleading”Warning message in predict.lm(full.linear.fit, train):\n",
      "“prediction from a rank-deficient fit may be misleading”Warning message in predict.lm(full.linear.fit, validation):\n",
      "“prediction from a rank-deficient fit may be misleading”Warning message in predict.lm(full.linear.fit, train):\n",
      "“prediction from a rank-deficient fit may be misleading”Warning message in predict.lm(full.linear.fit, validation):\n",
      "“prediction from a rank-deficient fit may be misleading”Warning message in predict.lm(full.linear.fit, train):\n",
      "“prediction from a rank-deficient fit may be misleading”Warning message in predict.lm(full.linear.fit, validation):\n",
      "“prediction from a rank-deficient fit may be misleading”Warning message in predict.lm(full.linear.fit, train):\n",
      "“prediction from a rank-deficient fit may be misleading”Warning message in predict.lm(full.linear.fit, validation):\n",
      "“prediction from a rank-deficient fit may be misleading”Warning message in predict.lm(full.linear.fit, train):\n",
      "“prediction from a rank-deficient fit may be misleading”Warning message in predict.lm(full.linear.fit, validation):\n",
      "“prediction from a rank-deficient fit may be misleading”Warning message in predict.lm(full.linear.fit, train):\n",
      "“prediction from a rank-deficient fit may be misleading”Warning message in predict.lm(full.linear.fit, validation):\n",
      "“prediction from a rank-deficient fit may be misleading”Warning message in predict.lm(full.linear.fit, train):\n",
      "“prediction from a rank-deficient fit may be misleading”Warning message in predict.lm(full.linear.fit, validation):\n",
      "“prediction from a rank-deficient fit may be misleading”Warning message in predict.lm(full.linear.fit, train):\n",
      "“prediction from a rank-deficient fit may be misleading”Warning message in predict.lm(full.linear.fit, validation):\n",
      "“prediction from a rank-deficient fit may be misleading”Warning message in predict.lm(full.linear.fit, train):\n",
      "“prediction from a rank-deficient fit may be misleading”Warning message in predict.lm(full.linear.fit, validation):\n",
      "“prediction from a rank-deficient fit may be misleading”Warning message in predict.lm(full.linear.fit, train):\n",
      "“prediction from a rank-deficient fit may be misleading”Warning message in predict.lm(full.linear.fit, validation):\n",
      "“prediction from a rank-deficient fit may be misleading”Warning message in predict.lm(full.linear.fit, train):\n",
      "“prediction from a rank-deficient fit may be misleading”Warning message in predict.lm(full.linear.fit, validation):\n",
      "“prediction from a rank-deficient fit may be misleading”Warning message in predict.lm(full.linear.fit, train):\n",
      "“prediction from a rank-deficient fit may be misleading”Warning message in predict.lm(full.linear.fit, validation):\n",
      "“prediction from a rank-deficient fit may be misleading”Warning message in predict.lm(full.linear.fit, train):\n",
      "“prediction from a rank-deficient fit may be misleading”Warning message in predict.lm(full.linear.fit, validation):\n",
      "“prediction from a rank-deficient fit may be misleading”Warning message in predict.lm(full.linear.fit, train):\n",
      "“prediction from a rank-deficient fit may be misleading”Warning message in predict.lm(full.linear.fit, validation):\n",
      "“prediction from a rank-deficient fit may be misleading”Warning message in predict.lm(full.linear.fit, train):\n",
      "“prediction from a rank-deficient fit may be misleading”Warning message in predict.lm(full.linear.fit, validation):\n",
      "“prediction from a rank-deficient fit may be misleading”Warning message in predict.lm(full.linear.fit, train):\n",
      "“prediction from a rank-deficient fit may be misleading”Warning message in predict.lm(full.linear.fit, validation):\n",
      "“prediction from a rank-deficient fit may be misleading”Warning message in predict.lm(full.linear.fit, train):\n",
      "“prediction from a rank-deficient fit may be misleading”Warning message in predict.lm(full.linear.fit, validation):\n",
      "“prediction from a rank-deficient fit may be misleading”Warning message in predict.lm(full.linear.fit, train):\n",
      "“prediction from a rank-deficient fit may be misleading”Warning message in predict.lm(full.linear.fit, validation):\n",
      "“prediction from a rank-deficient fit may be misleading”Warning message in predict.lm(full.linear.fit, train):\n",
      "“prediction from a rank-deficient fit may be misleading”Warning message in predict.lm(full.linear.fit, validation):\n",
      "“prediction from a rank-deficient fit may be misleading”Warning message in predict.lm(full.linear.fit, train):\n",
      "“prediction from a rank-deficient fit may be misleading”Warning message in predict.lm(full.linear.fit, validation):\n",
      "“prediction from a rank-deficient fit may be misleading”Warning message in predict.lm(full.linear.fit, train):\n",
      "“prediction from a rank-deficient fit may be misleading”Warning message in predict.lm(full.linear.fit, validation):\n",
      "“prediction from a rank-deficient fit may be misleading”Warning message in predict.lm(full.linear.fit, train):\n",
      "“prediction from a rank-deficient fit may be misleading”Warning message in predict.lm(full.linear.fit, validation):\n",
      "“prediction from a rank-deficient fit may be misleading”Warning message in predict.lm(full.linear.fit, train):\n",
      "“prediction from a rank-deficient fit may be misleading”Warning message in predict.lm(full.linear.fit, validation):\n",
      "“prediction from a rank-deficient fit may be misleading”Warning message in predict.lm(full.linear.fit, train):\n",
      "“prediction from a rank-deficient fit may be misleading”Warning message in predict.lm(full.linear.fit, validation):\n",
      "“prediction from a rank-deficient fit may be misleading”Warning message in predict.lm(full.linear.fit, train):\n",
      "“prediction from a rank-deficient fit may be misleading”Warning message in predict.lm(full.linear.fit, validation):\n",
      "“prediction from a rank-deficient fit may be misleading”Warning message in predict.lm(full.linear.fit, train):\n",
      "“prediction from a rank-deficient fit may be misleading”Warning message in predict.lm(full.linear.fit, validation):\n",
      "“prediction from a rank-deficient fit may be misleading”Warning message in predict.lm(full.linear.fit, train):\n",
      "“prediction from a rank-deficient fit may be misleading”Warning message in predict.lm(full.linear.fit, validation):\n",
      "“prediction from a rank-deficient fit may be misleading”Warning message in predict.lm(full.linear.fit, train):\n",
      "“prediction from a rank-deficient fit may be misleading”Warning message in predict.lm(full.linear.fit, validation):\n",
      "“prediction from a rank-deficient fit may be misleading”Warning message in predict.lm(full.linear.fit, train):\n",
      "“prediction from a rank-deficient fit may be misleading”Warning message in predict.lm(full.linear.fit, validation):\n",
      "“prediction from a rank-deficient fit may be misleading”Warning message in predict.lm(full.linear.fit, train):\n",
      "“prediction from a rank-deficient fit may be misleading”Warning message in predict.lm(full.linear.fit, validation):\n",
      "“prediction from a rank-deficient fit may be misleading”Warning message in predict.lm(full.linear.fit, train):\n",
      "“prediction from a rank-deficient fit may be misleading”Warning message in predict.lm(full.linear.fit, validation):\n",
      "“prediction from a rank-deficient fit may be misleading”Warning message in predict.lm(full.linear.fit, train):\n",
      "“prediction from a rank-deficient fit may be misleading”Warning message in predict.lm(full.linear.fit, validation):\n",
      "“prediction from a rank-deficient fit may be misleading”"
     ]
    }
   ],
   "source": [
    "seeds = seq(100,150,1)\n",
    "\n",
    "RMSE.train = c()\n",
    "RMSE.validation = c()\n",
    "\n",
    "\n",
    "for (i in seeds) {\n",
    "    set.seed(i)\n",
    "    \n",
    "    #split the training data in a training set and a validation set for correlated data\n",
    "    len <- length(x[,1])\n",
    "    idx.train <- sample(1:len, 2*len/3)\n",
    "\n",
    "    \n",
    "    train <- x[idx.train,]\n",
    "    train$VALENCE.PLEASANTNESS <- y[idx.train]\n",
    "    validation <- x[-idx.train,]\n",
    "    validation$VALENCE.PLEASANTNESS <- y[-idx.train]\n",
    "\n",
    "\n",
    "    full.linear.fit <- lm(VALENCE.PLEASANTNESS ~ ., train)\n",
    "    full.prediction.train <- predict(full.linear.fit, train)\n",
    "    RMSE.train <- rbind(RMSE.train, sqrt(mean((full.prediction.train - train$VALENCE.PLEASANTNESS)^2)))\n",
    "\n",
    "    \n",
    "    full.prediction.validation <- predict(full.linear.fit, validation)\n",
    "    RMSE.validation <- rbind(RMSE.validation, sqrt(mean((full.prediction.validation - validation$VALENCE.PLEASANTNESS)^2)))\n",
    "    \n",
    "}\n"
   ]
  },
  {
   "cell_type": "code",
   "execution_count": 6,
   "metadata": {},
   "outputs": [
    {
     "name": "stdout",
     "output_type": "stream",
     "text": [
      "The mean of the training MSE is  11.70863 and the variance is  0.2219616 \n",
      "The mean of the validation MSE is  39429471 and the variance is  7.476361e+16 \n",
      "The median of the validation MSE is  14820.12"
     ]
    }
   ],
   "source": [
    "mean.RMSE_train = mean(RMSE.train)\n",
    "mean.RMSE_val = mean(RMSE.validation)\n",
    "\n",
    "\n",
    "cat(\"The mean of the training MSE is \", mean.RMSE_train, \"and the variance is \", var(RMSE.train), '\\n')\n",
    "cat(\"The mean of the validation MSE is \",mean.RMSE_val, \"and the variance is \", var(RMSE.validation), '\\n')\n",
    "cat(\"The median of the validation MSE is \", median(RMSE.validation))"
   ]
  },
  {
   "cell_type": "markdown",
   "metadata": {},
   "source": [
    "We can see that the full linear model overfits the data highly. Indeed, we have a value in the range of $10^7$ for the validation MSE, with a huge variance. The median was computed and is in the range of $10^5$. Therefore we have a much more higher validation MSE than training MSE. The corresponding RMSEs and variances are reported on the report file associated with the project. "
   ]
  },
  {
   "cell_type": "markdown",
   "metadata": {},
   "source": [
    "We can see now if the validation MSE after multiple linear regression is reduced when counting for correlation between the predictors"
   ]
  },
  {
   "cell_type": "markdown",
   "metadata": {},
   "source": [
    "## Correlation Analysis "
   ]
  },
  {
   "cell_type": "markdown",
   "metadata": {},
   "source": [
    "First, we will look for perfectly correlated data in the dataset "
   ]
  },
  {
   "cell_type": "code",
   "execution_count": 7,
   "metadata": {},
   "outputs": [
    {
     "name": "stderr",
     "output_type": "stream",
     "text": [
      "corrplot 0.84 loaded\n",
      "Loading required package: lattice\n",
      "Loading required package: ggplot2\n"
     ]
    },
    {
     "data": {
      "text/html": [
       "0"
      ],
      "text/latex": [
       "0"
      ],
      "text/markdown": [
       "0"
      ],
      "text/plain": [
       "[1] 0"
      ]
     },
     "metadata": {},
     "output_type": "display_data"
    }
   ],
   "source": [
    "library(corrplot)\n",
    "library(caret)\n",
    "library(plyr)\n",
    "\n",
    "#searching for variables with correlation = 1\n",
    "corrMatrix <- cor(x) # Access the correlation matrix (Pearson's coefficients)\n",
    "\n",
    "highlyCorrelated <- findCorrelation(corrMatrix, cutoff = 1)  # dedects all indices of features which have a correltion of 1\n",
    "length(highlyCorrelated)"
   ]
  },
  {
   "cell_type": "markdown",
   "metadata": {},
   "source": [
    "There are zero variables which have a correlation index of 1. Hence no variables are completly correlated to each other. We can try to reduce the predictors with 0.95 correlation (or higher) and see if redoing a regression with Multiple Linear Regression gives us a smaller validation MSE."
   ]
  },
  {
   "cell_type": "code",
   "execution_count": 8,
   "metadata": {},
   "outputs": [
    {
     "data": {
      "text/html": [
       "<ol class=list-inline>\n",
       "\t<li>708</li>\n",
       "\t<li>1195</li>\n",
       "</ol>\n"
      ],
      "text/latex": [
       "\\begin{enumerate*}\n",
       "\\item 708\n",
       "\\item 1195\n",
       "\\end{enumerate*}\n"
      ],
      "text/markdown": [
       "1. 708\n",
       "2. 1195\n",
       "\n",
       "\n"
      ],
      "text/plain": [
       "[1]  708 1195"
      ]
     },
     "metadata": {},
     "output_type": "display_data"
    }
   ],
   "source": [
    "#searching for variables with correlation = 0.95\n",
    "corrMatrix <- cor(x) # Access the correlation matrix (Pearson's coefficients)\n",
    "highlyCorrelated <- findCorrelation(corrMatrix, cutoff = 0.95)  # removes all indices of features which have a correlation of 0.95 or above\n",
    "highlyCorrCol <- colnames(x)[highlyCorrelated]\n",
    "corr.x <- x[, -which(colnames(x) %in% highlyCorrCol)]  #Data frame with only uncorrelated data\n",
    "dim(corr.x)"
   ]
  },
  {
   "cell_type": "markdown",
   "metadata": {},
   "source": [
    "It leads to a reduction of dimension from 3026 to 1195 predictors.\n",
    "Now, let's split the training data into a training and a validation set and repeat linear regression on this new data set."
   ]
  },
  {
   "cell_type": "code",
   "execution_count": 11,
   "metadata": {},
   "outputs": [
    {
     "name": "stderr",
     "output_type": "stream",
     "text": [
      "Warning message in predict.lm(full.linear.fit, corr.train):\n",
      "“prediction from a rank-deficient fit may be misleading”Warning message in predict.lm(full.linear.fit, corr.validation):\n",
      "“prediction from a rank-deficient fit may be misleading”Warning message in predict.lm(full.linear.fit, corr.train):\n",
      "“prediction from a rank-deficient fit may be misleading”Warning message in predict.lm(full.linear.fit, corr.validation):\n",
      "“prediction from a rank-deficient fit may be misleading”Warning message in predict.lm(full.linear.fit, corr.train):\n",
      "“prediction from a rank-deficient fit may be misleading”Warning message in predict.lm(full.linear.fit, corr.validation):\n",
      "“prediction from a rank-deficient fit may be misleading”Warning message in predict.lm(full.linear.fit, corr.train):\n",
      "“prediction from a rank-deficient fit may be misleading”Warning message in predict.lm(full.linear.fit, corr.validation):\n",
      "“prediction from a rank-deficient fit may be misleading”Warning message in predict.lm(full.linear.fit, corr.train):\n",
      "“prediction from a rank-deficient fit may be misleading”Warning message in predict.lm(full.linear.fit, corr.validation):\n",
      "“prediction from a rank-deficient fit may be misleading”Warning message in predict.lm(full.linear.fit, corr.train):\n",
      "“prediction from a rank-deficient fit may be misleading”Warning message in predict.lm(full.linear.fit, corr.validation):\n",
      "“prediction from a rank-deficient fit may be misleading”Warning message in predict.lm(full.linear.fit, corr.train):\n",
      "“prediction from a rank-deficient fit may be misleading”Warning message in predict.lm(full.linear.fit, corr.validation):\n",
      "“prediction from a rank-deficient fit may be misleading”Warning message in predict.lm(full.linear.fit, corr.train):\n",
      "“prediction from a rank-deficient fit may be misleading”Warning message in predict.lm(full.linear.fit, corr.validation):\n",
      "“prediction from a rank-deficient fit may be misleading”Warning message in predict.lm(full.linear.fit, corr.train):\n",
      "“prediction from a rank-deficient fit may be misleading”Warning message in predict.lm(full.linear.fit, corr.validation):\n",
      "“prediction from a rank-deficient fit may be misleading”Warning message in predict.lm(full.linear.fit, corr.train):\n",
      "“prediction from a rank-deficient fit may be misleading”Warning message in predict.lm(full.linear.fit, corr.validation):\n",
      "“prediction from a rank-deficient fit may be misleading”Warning message in predict.lm(full.linear.fit, corr.train):\n",
      "“prediction from a rank-deficient fit may be misleading”Warning message in predict.lm(full.linear.fit, corr.validation):\n",
      "“prediction from a rank-deficient fit may be misleading”Warning message in predict.lm(full.linear.fit, corr.train):\n",
      "“prediction from a rank-deficient fit may be misleading”Warning message in predict.lm(full.linear.fit, corr.validation):\n",
      "“prediction from a rank-deficient fit may be misleading”Warning message in predict.lm(full.linear.fit, corr.train):\n",
      "“prediction from a rank-deficient fit may be misleading”Warning message in predict.lm(full.linear.fit, corr.validation):\n",
      "“prediction from a rank-deficient fit may be misleading”Warning message in predict.lm(full.linear.fit, corr.train):\n",
      "“prediction from a rank-deficient fit may be misleading”Warning message in predict.lm(full.linear.fit, corr.validation):\n",
      "“prediction from a rank-deficient fit may be misleading”Warning message in predict.lm(full.linear.fit, corr.train):\n",
      "“prediction from a rank-deficient fit may be misleading”Warning message in predict.lm(full.linear.fit, corr.validation):\n",
      "“prediction from a rank-deficient fit may be misleading”Warning message in predict.lm(full.linear.fit, corr.train):\n",
      "“prediction from a rank-deficient fit may be misleading”Warning message in predict.lm(full.linear.fit, corr.validation):\n",
      "“prediction from a rank-deficient fit may be misleading”Warning message in predict.lm(full.linear.fit, corr.train):\n",
      "“prediction from a rank-deficient fit may be misleading”Warning message in predict.lm(full.linear.fit, corr.validation):\n",
      "“prediction from a rank-deficient fit may be misleading”Warning message in predict.lm(full.linear.fit, corr.train):\n",
      "“prediction from a rank-deficient fit may be misleading”Warning message in predict.lm(full.linear.fit, corr.validation):\n",
      "“prediction from a rank-deficient fit may be misleading”Warning message in predict.lm(full.linear.fit, corr.train):\n",
      "“prediction from a rank-deficient fit may be misleading”Warning message in predict.lm(full.linear.fit, corr.validation):\n",
      "“prediction from a rank-deficient fit may be misleading”Warning message in predict.lm(full.linear.fit, corr.train):\n",
      "“prediction from a rank-deficient fit may be misleading”Warning message in predict.lm(full.linear.fit, corr.validation):\n",
      "“prediction from a rank-deficient fit may be misleading”Warning message in predict.lm(full.linear.fit, corr.train):\n",
      "“prediction from a rank-deficient fit may be misleading”Warning message in predict.lm(full.linear.fit, corr.validation):\n",
      "“prediction from a rank-deficient fit may be misleading”Warning message in predict.lm(full.linear.fit, corr.train):\n",
      "“prediction from a rank-deficient fit may be misleading”Warning message in predict.lm(full.linear.fit, corr.validation):\n",
      "“prediction from a rank-deficient fit may be misleading”Warning message in predict.lm(full.linear.fit, corr.train):\n",
      "“prediction from a rank-deficient fit may be misleading”Warning message in predict.lm(full.linear.fit, corr.validation):\n",
      "“prediction from a rank-deficient fit may be misleading”Warning message in predict.lm(full.linear.fit, corr.train):\n",
      "“prediction from a rank-deficient fit may be misleading”Warning message in predict.lm(full.linear.fit, corr.validation):\n",
      "“prediction from a rank-deficient fit may be misleading”Warning message in predict.lm(full.linear.fit, corr.train):\n",
      "“prediction from a rank-deficient fit may be misleading”Warning message in predict.lm(full.linear.fit, corr.validation):\n",
      "“prediction from a rank-deficient fit may be misleading”Warning message in predict.lm(full.linear.fit, corr.train):\n",
      "“prediction from a rank-deficient fit may be misleading”Warning message in predict.lm(full.linear.fit, corr.validation):\n",
      "“prediction from a rank-deficient fit may be misleading”Warning message in predict.lm(full.linear.fit, corr.train):\n",
      "“prediction from a rank-deficient fit may be misleading”Warning message in predict.lm(full.linear.fit, corr.validation):\n",
      "“prediction from a rank-deficient fit may be misleading”Warning message in predict.lm(full.linear.fit, corr.train):\n",
      "“prediction from a rank-deficient fit may be misleading”Warning message in predict.lm(full.linear.fit, corr.validation):\n",
      "“prediction from a rank-deficient fit may be misleading”Warning message in predict.lm(full.linear.fit, corr.train):\n",
      "“prediction from a rank-deficient fit may be misleading”Warning message in predict.lm(full.linear.fit, corr.validation):\n",
      "“prediction from a rank-deficient fit may be misleading”Warning message in predict.lm(full.linear.fit, corr.train):\n",
      "“prediction from a rank-deficient fit may be misleading”Warning message in predict.lm(full.linear.fit, corr.validation):\n",
      "“prediction from a rank-deficient fit may be misleading”Warning message in predict.lm(full.linear.fit, corr.train):\n",
      "“prediction from a rank-deficient fit may be misleading”Warning message in predict.lm(full.linear.fit, corr.validation):\n",
      "“prediction from a rank-deficient fit may be misleading”Warning message in predict.lm(full.linear.fit, corr.train):\n",
      "“prediction from a rank-deficient fit may be misleading”Warning message in predict.lm(full.linear.fit, corr.validation):\n",
      "“prediction from a rank-deficient fit may be misleading”Warning message in predict.lm(full.linear.fit, corr.train):\n",
      "“prediction from a rank-deficient fit may be misleading”Warning message in predict.lm(full.linear.fit, corr.validation):\n",
      "“prediction from a rank-deficient fit may be misleading”Warning message in predict.lm(full.linear.fit, corr.train):\n",
      "“prediction from a rank-deficient fit may be misleading”Warning message in predict.lm(full.linear.fit, corr.validation):\n",
      "“prediction from a rank-deficient fit may be misleading”Warning message in predict.lm(full.linear.fit, corr.train):\n",
      "“prediction from a rank-deficient fit may be misleading”Warning message in predict.lm(full.linear.fit, corr.validation):\n",
      "“prediction from a rank-deficient fit may be misleading”Warning message in predict.lm(full.linear.fit, corr.train):\n",
      "“prediction from a rank-deficient fit may be misleading”Warning message in predict.lm(full.linear.fit, corr.validation):\n",
      "“prediction from a rank-deficient fit may be misleading”Warning message in predict.lm(full.linear.fit, corr.train):\n",
      "“prediction from a rank-deficient fit may be misleading”Warning message in predict.lm(full.linear.fit, corr.validation):\n",
      "“prediction from a rank-deficient fit may be misleading”Warning message in predict.lm(full.linear.fit, corr.train):\n",
      "“prediction from a rank-deficient fit may be misleading”Warning message in predict.lm(full.linear.fit, corr.validation):\n",
      "“prediction from a rank-deficient fit may be misleading”Warning message in predict.lm(full.linear.fit, corr.train):\n",
      "“prediction from a rank-deficient fit may be misleading”Warning message in predict.lm(full.linear.fit, corr.validation):\n",
      "“prediction from a rank-deficient fit may be misleading”Warning message in predict.lm(full.linear.fit, corr.train):\n",
      "“prediction from a rank-deficient fit may be misleading”Warning message in predict.lm(full.linear.fit, corr.validation):\n",
      "“prediction from a rank-deficient fit may be misleading”Warning message in predict.lm(full.linear.fit, corr.train):\n",
      "“prediction from a rank-deficient fit may be misleading”Warning message in predict.lm(full.linear.fit, corr.validation):\n",
      "“prediction from a rank-deficient fit may be misleading”Warning message in predict.lm(full.linear.fit, corr.train):\n",
      "“prediction from a rank-deficient fit may be misleading”Warning message in predict.lm(full.linear.fit, corr.validation):\n",
      "“prediction from a rank-deficient fit may be misleading”Warning message in predict.lm(full.linear.fit, corr.train):\n",
      "“prediction from a rank-deficient fit may be misleading”Warning message in predict.lm(full.linear.fit, corr.validation):\n",
      "“prediction from a rank-deficient fit may be misleading”Warning message in predict.lm(full.linear.fit, corr.train):\n",
      "“prediction from a rank-deficient fit may be misleading”Warning message in predict.lm(full.linear.fit, corr.validation):\n",
      "“prediction from a rank-deficient fit may be misleading”Warning message in predict.lm(full.linear.fit, corr.train):\n",
      "“prediction from a rank-deficient fit may be misleading”Warning message in predict.lm(full.linear.fit, corr.validation):\n",
      "“prediction from a rank-deficient fit may be misleading”Warning message in predict.lm(full.linear.fit, corr.train):\n",
      "“prediction from a rank-deficient fit may be misleading”Warning message in predict.lm(full.linear.fit, corr.validation):\n",
      "“prediction from a rank-deficient fit may be misleading”Warning message in predict.lm(full.linear.fit, corr.train):\n",
      "“prediction from a rank-deficient fit may be misleading”Warning message in predict.lm(full.linear.fit, corr.validation):\n",
      "“prediction from a rank-deficient fit may be misleading”Warning message in predict.lm(full.linear.fit, corr.train):\n",
      "“prediction from a rank-deficient fit may be misleading”Warning message in predict.lm(full.linear.fit, corr.validation):\n",
      "“prediction from a rank-deficient fit may be misleading”Warning message in predict.lm(full.linear.fit, corr.train):\n",
      "“prediction from a rank-deficient fit may be misleading”Warning message in predict.lm(full.linear.fit, corr.validation):\n",
      "“prediction from a rank-deficient fit may be misleading”Warning message in predict.lm(full.linear.fit, corr.train):\n",
      "“prediction from a rank-deficient fit may be misleading”Warning message in predict.lm(full.linear.fit, corr.validation):\n",
      "“prediction from a rank-deficient fit may be misleading”Warning message in predict.lm(full.linear.fit, corr.train):\n",
      "“prediction from a rank-deficient fit may be misleading”Warning message in predict.lm(full.linear.fit, corr.validation):\n",
      "“prediction from a rank-deficient fit may be misleading”"
     ]
    }
   ],
   "source": [
    "seeds = seq(100,150,1)\n",
    "\n",
    "RMSE.train = c()\n",
    "RMSE.validation = c()\n",
    "\n",
    "\n",
    "for (i in seeds) {\n",
    "    set.seed(i)\n",
    "    \n",
    "    \n",
    "    #split the training data in a training set and a validation set for correlated data\n",
    "    len <- length(x[,1])\n",
    "    idx.train <- sample(1:len, 2*len/3)\n",
    "    \n",
    "    corr.train <- corr.x[idx.train,]\n",
    "    corr.train$VALENCE.PLEASANTNESS <- y[idx.train]\n",
    "    corr.validation <- corr.x[-idx.train,]\n",
    "    corr.validation$VALENCE.PLEASANTNESS <- y[-idx.train]\n",
    "\n",
    "\n",
    "    full.linear.fit <- lm(VALENCE.PLEASANTNESS ~ ., corr.train)\n",
    "    full.prediction.corr.train <- predict(full.linear.fit, corr.train)\n",
    "    RMSE.train <- rbind(RMSE.train, sqrt(mean((full.prediction.corr.train - corr.train$VALENCE.PLEASANTNESS)^2)))\n",
    "\n",
    "    \n",
    "    full.prediction.validation <- predict(full.linear.fit, corr.validation)\n",
    "    RMSE.validation <- rbind(RMSE.validation, sqrt(mean((full.prediction.validation - corr.validation$VALENCE.PLEASANTNESS)^2)))\n",
    "    \n",
    "}"
   ]
  },
  {
   "cell_type": "code",
   "execution_count": 12,
   "metadata": {},
   "outputs": [
    {
     "name": "stdout",
     "output_type": "stream",
     "text": [
      "The mean of the training MSE is  11.70856 and the variance is  0.2220049 \n",
      "The mean of the validation MSE is  76550.12 and the variance is  92101205464 \n"
     ]
    }
   ],
   "source": [
    "mean.RMSE_train = mean(RMSE.train)\n",
    "mean.RMSE_val = mean(RMSE.validation)\n",
    "\n",
    "cat(\"The mean of the training MSE is \", mean.RMSE_train, \"and the variance is \", var(RMSE.train), '\\n')\n",
    "cat(\"The mean of the validation MSE is \",mean.RMSE_val, \"and the variance is \", var(RMSE.validation), '\\n')\n",
    "#cat(\"The median of the validation MSE is \", median(MSE.validation))"
   ]
  },
  {
   "cell_type": "markdown",
   "metadata": {},
   "source": [
    "We can observe that the validation MSE is not significantly reduced after having removed the correlated variables when running a multiple linear regression. We obtain similar orders of magnitude for both set of variables. \n",
    "\n",
    "We will move on to Linear Methods that penalizes the flexibility of the model. In fact, as we have much more predictors than variables, our model is too flexible and it results in overfitting the training set. Some well known methods such as Lasso Regularization, Forward Selection with cross-validation will be used to try to reduce the validation MSE by penalizing and reducing some predictors to 0."
   ]
  }
 ],
 "metadata": {
  "kernelspec": {
   "display_name": "R",
   "language": "R",
   "name": "ir"
  },
  "language_info": {
   "codemirror_mode": "r",
   "file_extension": ".r",
   "mimetype": "text/x-r-source",
   "name": "R",
   "pygments_lexer": "r",
   "version": "3.6.3"
  }
 },
 "nbformat": 4,
 "nbformat_minor": 4
}
