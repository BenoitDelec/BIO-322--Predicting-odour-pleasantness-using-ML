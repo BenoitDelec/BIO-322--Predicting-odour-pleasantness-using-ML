{
 "cells": [
  {
   "cell_type": "code",
   "execution_count": 4,
   "metadata": {},
   "outputs": [],
   "source": [
    "train.data <- read.csv(file.path(\"..\", \"data\", \"training_data.csv\"))\n",
    "test.data <- read.csv(file.path(\"..\", \"data\", \"test_data.csv\"))"
   ]
  },
  {
   "cell_type": "code",
   "execution_count": 5,
   "metadata": {},
   "outputs": [],
   "source": [
    "set.seed(100)\n",
    "numeric.intensity <- as.numeric(train.data$Intensity)-1\n",
    "\n",
    "x <- train.data[, -c(2,3)]\n",
    "x$Intensity <- numeric.intensity\n",
    "idx.zero.var <- apply(x, 2, var) == 0\n",
    "\n",
    "\n",
    "x <- x[,!idx.zero.var]\n",
    "y <- train.data$VALENCE.PLEASANTNESS\n",
    "\n",
    "x.train = x\n",
    "y.train = y\n",
    "\n",
    "# x = predicteurs avec Intensity en numeric \n",
    "# y = que la réponse\n",
    "\n",
    "#Test data : tout sauf les \n",
    "test <- test.data[,-c(1,2)]\n",
    "test$Intensity <- as.numeric(test.data$Intensity)-1\n",
    "test <- test[,!idx.zero.var]"
   ]
  },
  {
   "cell_type": "code",
   "execution_count": 6,
   "metadata": {},
   "outputs": [
    {
     "name": "stderr",
     "output_type": "stream",
     "text": [
      "\n",
      "Attaching package: ‘xgboost’\n",
      "\n",
      "The following object is masked from ‘package:dplyr’:\n",
      "\n",
      "    slice\n",
      "\n"
     ]
    }
   ],
   "source": [
    "library(xgboost)\n",
    "train.x = xgb.DMatrix(data =  as.matrix(x.train))\n",
    "train.y = y.train"
   ]
  },
  {
   "cell_type": "code",
   "execution_count": 7,
   "metadata": {},
   "outputs": [],
   "source": [
    "library(tidyverse)\n",
    "library(caret)\n",
    "\n",
    "xgb_trcontrol = trainControl(\n",
    "  method = \"cv\",\n",
    "  number = 5,  \n",
    "  allowParallel = FALSE,\n",
    "  verboseIter = FALSE,\n",
    "  returnData = FALSE\n",
    ")"
   ]
  },
  {
   "cell_type": "code",
   "execution_count": 8,
   "metadata": {},
   "outputs": [],
   "source": [
    "xgbGrid <- expand.grid(nrounds = c(100,200),  # this is n_estimators in the python code above\n",
    "                       max_depth = c(10, 15, 20, 25),\n",
    "                       colsample_bytree = seq(0.5, 0.9, length.out = 5),\n",
    "                       ## The values below are default values in the sklearn-api. \n",
    "                       eta = c(0.1,0.2,0.3),\n",
    "                       gamma=0,\n",
    "                       min_child_weight = 1,\n",
    "                       subsample = 1\n",
    "                      )"
   ]
  },
  {
   "cell_type": "code",
   "execution_count": 9,
   "metadata": {},
   "outputs": [],
   "source": [
    "set.seed(100) \n",
    "\n",
    "xgb_model = train(\n",
    "  train.x, train.y,  \n",
    "  trControl = xgb_trcontrol,\n",
    "  tuneGrid = xgbGrid,\n",
    "  method = \"xgbTree\"\n",
    ")"
   ]
  },
  {
   "cell_type": "code",
   "execution_count": null,
   "metadata": {},
   "outputs": [],
   "source": []
  },
  {
   "cell_type": "code",
   "execution_count": null,
   "metadata": {},
   "outputs": [],
   "source": []
  },
  {
   "cell_type": "code",
   "execution_count": 6,
   "metadata": {},
   "outputs": [],
   "source": [
    "#CROSS-VALIDATION\n",
    "best_param <- list()\n",
    "best_seednumber <- 1234\n",
    "best_rmse <- Inf\n",
    "best_rmse_index <- 0\n",
    "\n",
    "set.seed(123)\n",
    "for (iter in 1:10) {\n",
    "  param <- list(objective = \"reg:squarederror\",\n",
    "                eval_metric = \"rmse\",\n",
    "                max_depth = sample(3:7, 1),\n",
    "                eta = runif(1, .1, .3))\n",
    "  cv.nround <-  100\n",
    "  cv.nfold <-  5 # 5-fold cross-validation\n",
    "  seed.number  <-  sample.int(10000, 1) # set seed for the cv\n",
    "  set.seed(seed.number)\n",
    "  mdcv <- xgb.cv(data = dtrain, params = param,  \n",
    "                 nfold = cv.nfold, nrounds = cv.nround,\n",
    "                 verbose = F, early_stopping_rounds = 50, maximize = FALSE)\n",
    "  min_rmse_index  <-  mdcv$best_iteration\n",
    "  min_rmse <-  mdcv$evaluation_log[min_rmse_index]$test_rmse_mean\n",
    "\n",
    "      if (min_rmse < best_rmse) {\n",
    "        best_rmse <- min_rmse\n",
    "        best_rmse_index <- min_rmse_index\n",
    "        best_seednumber <- seed.number\n",
    "        best_param <- param\n",
    "      }\n",
    "}\n",
    "nround = best_rmse_index\n",
    "set.seed(best_seednumber)"
   ]
  },
  {
   "cell_type": "code",
   "execution_count": 9,
   "metadata": {},
   "outputs": [
    {
     "data": {
      "text/html": [
       "2014"
      ],
      "text/latex": [
       "2014"
      ],
      "text/markdown": [
       "2014"
      ],
      "text/plain": [
       "[1] 2014"
      ]
     },
     "metadata": {},
     "output_type": "display_data"
    }
   ],
   "source": [
    "best_seednumber\n"
   ]
  },
  {
   "cell_type": "code",
   "execution_count": 8,
   "metadata": {},
   "outputs": [],
   "source": [
    "xg_mod <- xgboost(data = dtrain, params = best_param, nround = nround, verbose = F)"
   ]
  },
  {
   "cell_type": "code",
   "execution_count": 33,
   "metadata": {},
   "outputs": [],
   "source": [
    "test = test[,c(which(colnames(test)==\"Intensity\"),which(colnames(test)!=\"Intensity\"))]\n",
    "colnames(test) <- NULL"
   ]
  },
  {
   "cell_type": "code",
   "execution_count": 34,
   "metadata": {},
   "outputs": [],
   "source": [
    "predictions = predict(xg_mod, xgb.DMatrix(data = as.matrix(test)))"
   ]
  },
  {
   "cell_type": "code",
   "execution_count": 36,
   "metadata": {},
   "outputs": [],
   "source": [
    "submission <- data.frame(Id = 1:68, VALENCE.PLEASANTNESS = predictions)\n",
    "write.csv(submission, file = \"../Submissions/boosting_cv.csv\", row.names = FALSE)"
   ]
  }
 ],
 "metadata": {
  "kernelspec": {
   "display_name": "R",
   "language": "R",
   "name": "ir"
  },
  "language_info": {
   "codemirror_mode": "r",
   "file_extension": ".r",
   "mimetype": "text/x-r-source",
   "name": "R",
   "pygments_lexer": "r",
   "version": "3.6.1"
  }
 },
 "nbformat": 4,
 "nbformat_minor": 4
}
